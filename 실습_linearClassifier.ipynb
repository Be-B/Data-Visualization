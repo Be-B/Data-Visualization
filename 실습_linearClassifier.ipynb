{
  "nbformat": 4,
  "nbformat_minor": 0,
  "metadata": {
    "accelerator": "GPU",
    "colab": {
      "provenance": [],
      "include_colab_link": true
    },
    "kernelspec": {
      "name": "python3",
      "display_name": "Python 3"
    }
  },
  "cells": [
    {
      "cell_type": "markdown",
      "metadata": {
        "id": "view-in-github",
        "colab_type": "text"
      },
      "source": [
        "<a href=\"https://colab.research.google.com/github/Be-B/Data-Visualization/blob/main/%EC%8B%A4%EC%8A%B5_linearClassifier.ipynb\" target=\"_parent\"><img src=\"https://colab.research.google.com/assets/colab-badge.svg\" alt=\"Open In Colab\"/></a>"
      ]
    },
    {
      "cell_type": "markdown",
      "metadata": {
        "id": "vTOX0d3cmLQf"
      },
      "source": [
        "**실습  Linear classifiers 구현**\n",
        "\n",
        "\n",
        "**DISCLAIMER 1. [파일] - [드라이브에 사본 저장]을 눌러 본 노트를 본인 계정의 Google Drive로 복사하십시오.**\n",
        "\n",
        "\n",
        "**DISCLAIMER 2.** 본 강의노트는 원작자의 허가 하에 다음 강좌의 강의노트를 일부 수정 or 번역함 :\n",
        "\n",
        "Justin Johnson, *Deep Learning for Computer Vision*, University of Michigan EECS 498-007 / 598-005, 2019 Fall.\n",
        "\n",
        "통계적기계학습 (숙명여대 통계학과 2010-1) 실습 2a :  Linear classifiers\n",
        "\n",
        "본 실습 강의노트는 원 강의에서 Assignment 2-1 (A2-1)에 해당합니다."
      ]
    },
    {
      "cell_type": "markdown",
      "metadata": {
        "id": "FrfeHl_-m4V-"
      },
      "source": [
        "## Install starter code\n",
        "We will continue using the utility functions that we've used for Assignment 1: [`coutils` package](https://github.com/deepvision-class/starter-code). Run this cell to download and install it."
      ]
    },
    {
      "cell_type": "code",
      "source": [],
      "metadata": {
        "id": "R3ORVVg953H3"
      },
      "execution_count": null,
      "outputs": []
    },
    {
      "cell_type": "code",
      "metadata": {
        "id": "VyQblYp0nEZq",
        "colab": {
          "base_uri": "https://localhost:8080/"
        },
        "outputId": "1eed84e5-d886-42c6-f35e-ece69302957e"
      },
      "source": [
        "!pip install git+https://github.com/deepvision-class/starter-code"
      ],
      "execution_count": null,
      "outputs": [
        {
          "output_type": "stream",
          "name": "stdout",
          "text": [
            "Collecting git+https://github.com/deepvision-class/starter-code\n",
            "  Cloning https://github.com/deepvision-class/starter-code to /tmp/pip-req-build-e6zb4mfj\n",
            "  Running command git clone --filter=blob:none --quiet https://github.com/deepvision-class/starter-code /tmp/pip-req-build-e6zb4mfj\n",
            "  Resolved https://github.com/deepvision-class/starter-code to commit e8d9fe711870a39796a2f8ad95538e57942d756f\n",
            "  Preparing metadata (setup.py) ... \u001b[?25l\u001b[?25hdone\n",
            "Requirement already satisfied: pydrive in /usr/local/lib/python3.10/dist-packages (from Colab-Utils==0.1.dev0) (1.3.1)\n",
            "Requirement already satisfied: google-api-python-client>=1.2 in /usr/local/lib/python3.10/dist-packages (from pydrive->Colab-Utils==0.1.dev0) (2.84.0)\n",
            "Requirement already satisfied: oauth2client>=4.0.0 in /usr/local/lib/python3.10/dist-packages (from pydrive->Colab-Utils==0.1.dev0) (4.1.3)\n",
            "Requirement already satisfied: PyYAML>=3.0 in /usr/local/lib/python3.10/dist-packages (from pydrive->Colab-Utils==0.1.dev0) (6.0.1)\n",
            "Requirement already satisfied: httplib2<1dev,>=0.15.0 in /usr/local/lib/python3.10/dist-packages (from google-api-python-client>=1.2->pydrive->Colab-Utils==0.1.dev0) (0.22.0)\n",
            "Requirement already satisfied: google-auth<3.0.0dev,>=1.19.0 in /usr/local/lib/python3.10/dist-packages (from google-api-python-client>=1.2->pydrive->Colab-Utils==0.1.dev0) (2.27.0)\n",
            "Requirement already satisfied: google-auth-httplib2>=0.1.0 in /usr/local/lib/python3.10/dist-packages (from google-api-python-client>=1.2->pydrive->Colab-Utils==0.1.dev0) (0.1.1)\n",
            "Requirement already satisfied: google-api-core!=2.0.*,!=2.1.*,!=2.2.*,!=2.3.0,<3.0.0dev,>=1.31.5 in /usr/local/lib/python3.10/dist-packages (from google-api-python-client>=1.2->pydrive->Colab-Utils==0.1.dev0) (2.11.1)\n",
            "Requirement already satisfied: uritemplate<5,>=3.0.1 in /usr/local/lib/python3.10/dist-packages (from google-api-python-client>=1.2->pydrive->Colab-Utils==0.1.dev0) (4.1.1)\n",
            "Requirement already satisfied: pyasn1>=0.1.7 in /usr/local/lib/python3.10/dist-packages (from oauth2client>=4.0.0->pydrive->Colab-Utils==0.1.dev0) (0.6.0)\n",
            "Requirement already satisfied: pyasn1-modules>=0.0.5 in /usr/local/lib/python3.10/dist-packages (from oauth2client>=4.0.0->pydrive->Colab-Utils==0.1.dev0) (0.4.0)\n",
            "Requirement already satisfied: rsa>=3.1.4 in /usr/local/lib/python3.10/dist-packages (from oauth2client>=4.0.0->pydrive->Colab-Utils==0.1.dev0) (4.9)\n",
            "Requirement already satisfied: six>=1.6.1 in /usr/local/lib/python3.10/dist-packages (from oauth2client>=4.0.0->pydrive->Colab-Utils==0.1.dev0) (1.16.0)\n",
            "Requirement already satisfied: googleapis-common-protos<2.0.dev0,>=1.56.2 in /usr/local/lib/python3.10/dist-packages (from google-api-core!=2.0.*,!=2.1.*,!=2.2.*,!=2.3.0,<3.0.0dev,>=1.31.5->google-api-python-client>=1.2->pydrive->Colab-Utils==0.1.dev0) (1.63.0)\n",
            "Requirement already satisfied: protobuf!=3.20.0,!=3.20.1,!=4.21.0,!=4.21.1,!=4.21.2,!=4.21.3,!=4.21.4,!=4.21.5,<5.0.0.dev0,>=3.19.5 in /usr/local/lib/python3.10/dist-packages (from google-api-core!=2.0.*,!=2.1.*,!=2.2.*,!=2.3.0,<3.0.0dev,>=1.31.5->google-api-python-client>=1.2->pydrive->Colab-Utils==0.1.dev0) (3.20.3)\n",
            "Requirement already satisfied: requests<3.0.0.dev0,>=2.18.0 in /usr/local/lib/python3.10/dist-packages (from google-api-core!=2.0.*,!=2.1.*,!=2.2.*,!=2.3.0,<3.0.0dev,>=1.31.5->google-api-python-client>=1.2->pydrive->Colab-Utils==0.1.dev0) (2.31.0)\n",
            "Requirement already satisfied: cachetools<6.0,>=2.0.0 in /usr/local/lib/python3.10/dist-packages (from google-auth<3.0.0dev,>=1.19.0->google-api-python-client>=1.2->pydrive->Colab-Utils==0.1.dev0) (5.3.3)\n",
            "Requirement already satisfied: pyparsing!=3.0.0,!=3.0.1,!=3.0.2,!=3.0.3,<4,>=2.4.2 in /usr/local/lib/python3.10/dist-packages (from httplib2<1dev,>=0.15.0->google-api-python-client>=1.2->pydrive->Colab-Utils==0.1.dev0) (3.1.2)\n",
            "Requirement already satisfied: charset-normalizer<4,>=2 in /usr/local/lib/python3.10/dist-packages (from requests<3.0.0.dev0,>=2.18.0->google-api-core!=2.0.*,!=2.1.*,!=2.2.*,!=2.3.0,<3.0.0dev,>=1.31.5->google-api-python-client>=1.2->pydrive->Colab-Utils==0.1.dev0) (3.3.2)\n",
            "Requirement already satisfied: idna<4,>=2.5 in /usr/local/lib/python3.10/dist-packages (from requests<3.0.0.dev0,>=2.18.0->google-api-core!=2.0.*,!=2.1.*,!=2.2.*,!=2.3.0,<3.0.0dev,>=1.31.5->google-api-python-client>=1.2->pydrive->Colab-Utils==0.1.dev0) (3.6)\n",
            "Requirement already satisfied: urllib3<3,>=1.21.1 in /usr/local/lib/python3.10/dist-packages (from requests<3.0.0.dev0,>=2.18.0->google-api-core!=2.0.*,!=2.1.*,!=2.2.*,!=2.3.0,<3.0.0dev,>=1.31.5->google-api-python-client>=1.2->pydrive->Colab-Utils==0.1.dev0) (2.0.7)\n",
            "Requirement already satisfied: certifi>=2017.4.17 in /usr/local/lib/python3.10/dist-packages (from requests<3.0.0.dev0,>=2.18.0->google-api-core!=2.0.*,!=2.1.*,!=2.2.*,!=2.3.0,<3.0.0dev,>=1.31.5->google-api-python-client>=1.2->pydrive->Colab-Utils==0.1.dev0) (2024.2.2)\n",
            "Building wheels for collected packages: Colab-Utils\n",
            "  Building wheel for Colab-Utils (setup.py) ... \u001b[?25l\u001b[?25hdone\n",
            "  Created wheel for Colab-Utils: filename=Colab_Utils-0.1.dev0-py3-none-any.whl size=10266 sha256=0f93c119b7fbe7ecefe2a11d71455ae93b79a560ff8e94c543b8aea8ae2d56d6\n",
            "  Stored in directory: /tmp/pip-ephem-wheel-cache-ie2yfh_u/wheels/c9/fa/82/64b6c443adccf6982835123e4300fc4420373c553439ff0ad5\n",
            "Successfully built Colab-Utils\n",
            "Installing collected packages: Colab-Utils\n",
            "Successfully installed Colab-Utils-0.1.dev0\n"
          ]
        }
      ]
    },
    {
      "cell_type": "markdown",
      "metadata": {
        "id": "28bBK1v7nJOu"
      },
      "source": [
        "## Setup code\n",
        "Run some setup code for this notebook: Import some useful packages and increase the default figure size."
      ]
    },
    {
      "cell_type": "code",
      "metadata": {
        "id": "VUCKw4Tl1ddj",
        "colab": {
          "base_uri": "https://localhost:8080/"
        },
        "outputId": "0926a169-a45c-42b0-d7ac-57c39bafd9a2"
      },
      "source": [
        "from __future__ import print_function\n",
        "from __future__ import division\n",
        "\n",
        "import torch\n",
        "import coutils\n",
        "import random\n",
        "import time\n",
        "import math\n",
        "import matplotlib.pyplot as plt\n",
        "from torchvision.utils import make_grid\n",
        "\n",
        "%matplotlib inline\n",
        "plt.rcParams['figure.figsize'] = (10.0, 8.0) # set default size of plots\n",
        "plt.rcParams['image.interpolation'] = 'nearest'\n",
        "plt.rcParams['image.cmap'] = 'gray'"
      ],
      "execution_count": null,
      "outputs": [
        {
          "output_type": "stream",
          "name": "stderr",
          "text": [
            "WARNING:root:pydrive is deprecated and no longer maintained. We recommend that you migrate your projects to pydrive2, the maintained fork of pydrive\n"
          ]
        }
      ]
    },
    {
      "cell_type": "markdown",
      "metadata": {
        "id": "lhqpd2IN2O-K"
      },
      "source": [
        "Starting in this assignment, we will use the GPU to accelerate our computation. Run this cell to make sure you are using a GPU."
      ]
    },
    {
      "cell_type": "code",
      "metadata": {
        "id": "SGDxdBIMRX6b",
        "colab": {
          "base_uri": "https://localhost:8080/"
        },
        "outputId": "9614e47e-32f7-41e6-dc74-a664fdd15ff6"
      },
      "source": [
        "if torch.cuda.is_available:\n",
        "  print('Good to go!')\n",
        "else:\n",
        "  print('Please set GPU via 수정 (Edit) -> 노트 설정 (Notebook Settings).')"
      ],
      "execution_count": null,
      "outputs": [
        {
          "output_type": "stream",
          "name": "stdout",
          "text": [
            "Good to go!\n"
          ]
        }
      ]
    },
    {
      "cell_type": "markdown",
      "metadata": {
        "id": "fdMnUocj7Srw"
      },
      "source": [
        "Now, we will load CIFAR10 dataset, with normalization.\n",
        "\n",
        "In this notebook we will use the **bias trick**: By adding an extra constant feature of ones to each image, we avoid the need to keep track of a bias vector; the bias will be encoded as the part of the weight matrix that interacts with the constant ones in the input.\n",
        "\n",
        "(주: wx + b = [w, b][x ; 1] 이므로, 크기가 d인 인풋 x에 1을 붙여 크기 d+1의 벡터 [x ; 1]을 만들면 weight 내부에 bias term까지 집어넣는 것과 똑같음.)\n",
        "\n",
        "In the `two_layer_net.ipynb` notebook that follows this one, we will not use the bias trick."
      ]
    },
    {
      "cell_type": "code",
      "metadata": {
        "id": "V2mFlFmQ1ddm",
        "colab": {
          "base_uri": "https://localhost:8080/",
          "height": 426
        },
        "outputId": "06e69087-3045-4fda-b181-238d81a5d5ff"
      },
      "source": [
        "def get_CIFAR10_data(validation_ratio = 0.02):\n",
        "  \"\"\"\n",
        "  Load the CIFAR-10 dataset from disk and perform preprocessing to prepare\n",
        "  it for the linear classifier. These are the same steps as we used for the\n",
        "  SVM, but condensed to a single function.\n",
        "  \"\"\"\n",
        "  X_train, y_train, X_test, y_test = coutils.data.cifar10()\n",
        "\n",
        "  # Move all the data to the GPU\n",
        "  X_train = X_train.cuda()\n",
        "  y_train = y_train.cuda()\n",
        "  X_test = X_test.cuda()\n",
        "  y_test = y_test.cuda()\n",
        "\n",
        "  # 0. Visualize some examples from the dataset.\n",
        "  class_names = [\n",
        "      'plane', 'car', 'bird', 'cat', 'deer',\n",
        "      'dog', 'frog', 'horse', 'ship', 'truck'\n",
        "  ]\n",
        "  # 주. 아래 coutils.utils.visualize_dataset()는 Johnson이 수업을 위해 만든 custom 함수임\n",
        "  img = coutils.utils.visualize_dataset(X_train, y_train, 12, class_names)\n",
        "  plt.imshow(img)\n",
        "  plt.axis('off')\n",
        "  plt.show()\n",
        "\n",
        "  print(X_train.shape)\n",
        "  # 1. Normalize the data: subtract the mean RGB (zero mean)\n",
        "  mean_image = X_train.mean(dim=0, keepdim=True).mean(dim=2, keepdim=True).mean(dim=3, keepdim=True)\n",
        "  X_train -= mean_image\n",
        "  X_test -= mean_image\n",
        "  # 주.\n",
        "  # normalization (mean_image 빼기)는 training dataset에서만 계산되었음에 주의하세요.\n",
        "  # why: validadtion(test) set의 전처리에 validation(test) set을 사용하면, validation(test) set을 이용한 성능평가가 무의미해집니다.\n",
        "\n",
        "  # 2. Reshape the image data into rows\n",
        "  X_train = X_train.reshape(X_train.shape[0], -1) # (N, W, H, 3) --> (N, W*H*3)\n",
        "  X_test = X_test.reshape(X_test.shape[0], -1)\n",
        "\n",
        "  # 3. Add bias dimension and transform into columns\n",
        "  ones_train = torch.ones(X_train.shape[0], 1, device=X_train.device)\n",
        "  X_train = torch.cat([X_train, ones_train], dim=1)\n",
        "  ones_test = torch.ones(X_test.shape[0], 1, device=X_test.device)\n",
        "  X_test = torch.cat([X_test, ones_test], dim=1)\n",
        "\n",
        "  # 4. Carve out part of the training set to use for validation.\n",
        "  # For random permutation, you can use torch.randperm or torch.randint\n",
        "  # But, for this homework, we use slicing instead.\n",
        "  num_training = int( X_train.shape[0] * (1.0 - validation_ratio) )\n",
        "  num_validation = X_train.shape[0] - num_training\n",
        "\n",
        "  # Return the dataset as a dictionary\n",
        "  data_dict = {}\n",
        "  data_dict['X_val'] = X_train[num_training:num_training + num_validation]\n",
        "  data_dict['y_val'] = y_train[num_training:num_training + num_validation]\n",
        "  data_dict['X_train'] = X_train[0:num_training]\n",
        "  data_dict['y_train'] = y_train[0:num_training]\n",
        "\n",
        "  data_dict['X_test'] = X_test\n",
        "  data_dict['y_test'] = y_test\n",
        "  return data_dict\n",
        "\n",
        "# Invoke the above function to get our data.\n",
        "data_dict = get_CIFAR10_data()\n",
        "print('Train data shape: ', data_dict['X_train'].shape)\n",
        "print('Train labels shape: ', data_dict['y_train'].shape)\n",
        "print('Validation data shape: ', data_dict['X_val'].shape)\n",
        "print('Validation labels shape: ', data_dict['y_val'].shape)\n",
        "print('Test data shape: ', data_dict['X_test'].shape)\n",
        "print('Test labels shape: ', data_dict['y_test'].shape)"
      ],
      "execution_count": null,
      "outputs": [
        {
          "output_type": "stream",
          "name": "stdout",
          "text": [
            "Downloading https://www.cs.toronto.edu/~kriz/cifar-10-python.tar.gz to ./cifar-10-python.tar.gz\n"
          ]
        },
        {
          "output_type": "stream",
          "name": "stderr",
          "text": [
            "100%|██████████| 170498071/170498071 [00:10<00:00, 16081655.04it/s]\n"
          ]
        },
        {
          "output_type": "stream",
          "name": "stdout",
          "text": [
            "Extracting ./cifar-10-python.tar.gz to .\n"
          ]
        },
        {
          "output_type": "error",
          "ename": "RuntimeError",
          "evalue": "Found no NVIDIA driver on your system. Please check that you have an NVIDIA GPU and installed a driver from http://www.nvidia.com/Download/index.aspx",
          "traceback": [
            "\u001b[0;31m---------------------------------------------------------------------------\u001b[0m",
            "\u001b[0;31mRuntimeError\u001b[0m                              Traceback (most recent call last)",
            "\u001b[0;32m<ipython-input-4-09a593ce4877>\u001b[0m in \u001b[0;36m<cell line: 63>\u001b[0;34m()\u001b[0m\n\u001b[1;32m     61\u001b[0m \u001b[0;34m\u001b[0m\u001b[0m\n\u001b[1;32m     62\u001b[0m \u001b[0;31m# Invoke the above function to get our data.\u001b[0m\u001b[0;34m\u001b[0m\u001b[0;34m\u001b[0m\u001b[0m\n\u001b[0;32m---> 63\u001b[0;31m \u001b[0mdata_dict\u001b[0m \u001b[0;34m=\u001b[0m \u001b[0mget_CIFAR10_data\u001b[0m\u001b[0;34m(\u001b[0m\u001b[0;34m)\u001b[0m\u001b[0;34m\u001b[0m\u001b[0;34m\u001b[0m\u001b[0m\n\u001b[0m\u001b[1;32m     64\u001b[0m \u001b[0mprint\u001b[0m\u001b[0;34m(\u001b[0m\u001b[0;34m'Train data shape: '\u001b[0m\u001b[0;34m,\u001b[0m \u001b[0mdata_dict\u001b[0m\u001b[0;34m[\u001b[0m\u001b[0;34m'X_train'\u001b[0m\u001b[0;34m]\u001b[0m\u001b[0;34m.\u001b[0m\u001b[0mshape\u001b[0m\u001b[0;34m)\u001b[0m\u001b[0;34m\u001b[0m\u001b[0;34m\u001b[0m\u001b[0m\n\u001b[1;32m     65\u001b[0m \u001b[0mprint\u001b[0m\u001b[0;34m(\u001b[0m\u001b[0;34m'Train labels shape: '\u001b[0m\u001b[0;34m,\u001b[0m \u001b[0mdata_dict\u001b[0m\u001b[0;34m[\u001b[0m\u001b[0;34m'y_train'\u001b[0m\u001b[0;34m]\u001b[0m\u001b[0;34m.\u001b[0m\u001b[0mshape\u001b[0m\u001b[0;34m)\u001b[0m\u001b[0;34m\u001b[0m\u001b[0;34m\u001b[0m\u001b[0m\n",
            "\u001b[0;32m<ipython-input-4-09a593ce4877>\u001b[0m in \u001b[0;36mget_CIFAR10_data\u001b[0;34m(validation_ratio)\u001b[0m\n\u001b[1;32m      8\u001b[0m \u001b[0;34m\u001b[0m\u001b[0m\n\u001b[1;32m      9\u001b[0m   \u001b[0;31m# Move all the data to the GPU\u001b[0m\u001b[0;34m\u001b[0m\u001b[0;34m\u001b[0m\u001b[0m\n\u001b[0;32m---> 10\u001b[0;31m   \u001b[0mX_train\u001b[0m \u001b[0;34m=\u001b[0m \u001b[0mX_train\u001b[0m\u001b[0;34m.\u001b[0m\u001b[0mcuda\u001b[0m\u001b[0;34m(\u001b[0m\u001b[0;34m)\u001b[0m\u001b[0;34m\u001b[0m\u001b[0;34m\u001b[0m\u001b[0m\n\u001b[0m\u001b[1;32m     11\u001b[0m   \u001b[0my_train\u001b[0m \u001b[0;34m=\u001b[0m \u001b[0my_train\u001b[0m\u001b[0;34m.\u001b[0m\u001b[0mcuda\u001b[0m\u001b[0;34m(\u001b[0m\u001b[0;34m)\u001b[0m\u001b[0;34m\u001b[0m\u001b[0;34m\u001b[0m\u001b[0m\n\u001b[1;32m     12\u001b[0m   \u001b[0mX_test\u001b[0m \u001b[0;34m=\u001b[0m \u001b[0mX_test\u001b[0m\u001b[0;34m.\u001b[0m\u001b[0mcuda\u001b[0m\u001b[0;34m(\u001b[0m\u001b[0;34m)\u001b[0m\u001b[0;34m\u001b[0m\u001b[0;34m\u001b[0m\u001b[0m\n",
            "\u001b[0;32m/usr/local/lib/python3.10/dist-packages/torch/cuda/__init__.py\u001b[0m in \u001b[0;36m_lazy_init\u001b[0;34m()\u001b[0m\n\u001b[1;32m    300\u001b[0m         \u001b[0;32mif\u001b[0m \u001b[0;34m\"CUDA_MODULE_LOADING\"\u001b[0m \u001b[0;32mnot\u001b[0m \u001b[0;32min\u001b[0m \u001b[0mos\u001b[0m\u001b[0;34m.\u001b[0m\u001b[0menviron\u001b[0m\u001b[0;34m:\u001b[0m\u001b[0;34m\u001b[0m\u001b[0;34m\u001b[0m\u001b[0m\n\u001b[1;32m    301\u001b[0m             \u001b[0mos\u001b[0m\u001b[0;34m.\u001b[0m\u001b[0menviron\u001b[0m\u001b[0;34m[\u001b[0m\u001b[0;34m\"CUDA_MODULE_LOADING\"\u001b[0m\u001b[0;34m]\u001b[0m \u001b[0;34m=\u001b[0m \u001b[0;34m\"LAZY\"\u001b[0m\u001b[0;34m\u001b[0m\u001b[0;34m\u001b[0m\u001b[0m\n\u001b[0;32m--> 302\u001b[0;31m         \u001b[0mtorch\u001b[0m\u001b[0;34m.\u001b[0m\u001b[0m_C\u001b[0m\u001b[0;34m.\u001b[0m\u001b[0m_cuda_init\u001b[0m\u001b[0;34m(\u001b[0m\u001b[0;34m)\u001b[0m\u001b[0;34m\u001b[0m\u001b[0;34m\u001b[0m\u001b[0m\n\u001b[0m\u001b[1;32m    303\u001b[0m         \u001b[0;31m# Some of the queued calls may reentrantly call _lazy_init();\u001b[0m\u001b[0;34m\u001b[0m\u001b[0;34m\u001b[0m\u001b[0m\n\u001b[1;32m    304\u001b[0m         \u001b[0;31m# we need to just return without initializing in that case.\u001b[0m\u001b[0;34m\u001b[0m\u001b[0;34m\u001b[0m\u001b[0m\n",
            "\u001b[0;31mRuntimeError\u001b[0m: Found no NVIDIA driver on your system. Please check that you have an NVIDIA GPU and installed a driver from http://www.nvidia.com/Download/index.aspx"
          ]
        }
      ]
    },
    {
      "cell_type": "markdown",
      "metadata": {
        "id": "MhOuO4zE9ONc"
      },
      "source": [
        "For Softmax and SVM, we will numerically compute the gradient, as a sanity check.\n",
        "\n",
        "* Sanity check (온전성 점검) : 계산 결과가 잘못되었는지 신속하게 평가하기 위한 간단한 테스트\n",
        "* 원문에는 'analytically compute the gradient' 로 서술되어 있는데 오탈자같음."
      ]
    },
    {
      "cell_type": "code",
      "metadata": {
        "id": "biGULpeRxEhe"
      },
      "source": [
        "def grad_check_sparse(f, x, analytic_grad, num_checks=10, h=1e-7):\n",
        "  \"\"\"\n",
        "  Utility function to perform numeric gradient checking. We use the centered\n",
        "  difference formula to compute a numeric derivative:\n",
        "\n",
        "  1. f'(x) =~ (f(x + h) - f(x)) / h  -->  O(h)\n",
        "  2. f'(x) =~ (f(x + h) - f(x - h)) / (2h)   -->  O(h^2)\n",
        "\n",
        "  Rather than computing a full numeric gradient, we sparsely sample a few\n",
        "  dimensions along which to compute numeric derivatives.\n",
        "\n",
        "  Inputs:\n",
        "  - f: A function that inputs a torch tensor and returns a torch scalar\n",
        "  - x: A torch tensor giving the point at which to evaluate the numeric gradient\n",
        "  - analytic_grad: A torch tensor giving the analytic gradient of f at x\n",
        "  - num_checks: The number of dimensions along which to check\n",
        "  - h: Step size for computing numeric derivatives\n",
        "  \"\"\"\n",
        "  # fix random seed for\n",
        "  coutils.utils.fix_random_seed()\n",
        "\n",
        "  for i in range(num_checks):\n",
        "\n",
        "    ix = tuple([random.randrange(m) for m in x.shape])\n",
        "\n",
        "    oldval = x[ix].item()\n",
        "    x[ix] = oldval + h # increment by h\n",
        "    fxph = f(x).item() # evaluate f(x + h)\n",
        "    x[ix] = oldval - h # increment by h\n",
        "    fxmh = f(x).item() # evaluate f(x - h)\n",
        "    x[ix] = oldval     # reset\n",
        "\n",
        "    grad_numerical = (fxph - fxmh) / (2 * h)\n",
        "    grad_analytic = analytic_grad[ix]\n",
        "    rel_error_top = abs(grad_numerical - grad_analytic)\n",
        "    rel_error_bot = (abs(grad_numerical) + abs(grad_analytic) + 1e-12)\n",
        "    rel_error = rel_error_top / rel_error_bot\n",
        "    msg = 'numerical: %f analytic: %f, relative error: %e'\n",
        "    print(msg % (grad_numerical, grad_analytic, rel_error))"
      ],
      "execution_count": null,
      "outputs": []
    },
    {
      "cell_type": "markdown",
      "metadata": {
        "id": "0Lvdm4fm7iJC"
      },
      "source": [
        "## 1. SVM Classifier\n",
        "\n",
        "In this section, you will:\n",
        "    \n",
        "- implement a fully-vectorized **loss function** for the SVM\n",
        "- implement the fully-vectorized expression for its **analytic gradient**\n",
        "- **check your implementation** using numerical gradient\n",
        "- use a validation set to **tune the learning rate and regularization** strength\n",
        "- **optimize** the loss function with **SGD**\n",
        "- **visualize** the final learned weights\n"
      ]
    },
    {
      "cell_type": "code",
      "metadata": {
        "id": "3CFWcoJF8hti",
        "colab": {
          "base_uri": "https://localhost:8080/",
          "height": 106
        },
        "outputId": "3928d853-d535-4aea-b8d5-cd71314eb0c9"
      },
      "source": [
        "# chunk 1.1\n",
        "def svm_loss_naive(W, X, y, reg):\n",
        "  \"\"\"\n",
        "  Structured SVM loss function, naive implementation (with loops).\n",
        "\n",
        "  Inputs have dimension D, there are C classes, and we operate on minibatches\n",
        "  of N examples. When you implment the regularization over W, please DO NOT\n",
        "  multiply the regularization term by 1/2 (no coefficient).\n",
        "  (주. 동일한 실습(숙제)가 cs231n 강좌에 있는데 거기서는 규제항에 1/2을 곱해놓았음.)\n",
        "\n",
        "  Inputs:\n",
        "  - W: A PyTorch tensor of shape (D, C) containing weights.\n",
        "  (주. 강의노트에서 W는 (C, D) 행렬로 설명되어 있었는데 본 실습노트에서는 transpose되어 있음)\n",
        "  - X: A PyTorch tensor of shape (N, D) containing a minibatch of data. # D = 3073\n",
        "  - y: A PyTorch tensor of shape (N,) containing training labels; y[i] = c means\n",
        "    that X[i] has label c, where 0 <= c < C.\n",
        "  - reg: (float) regularization strength, lambda\n",
        "\n",
        "  Returns a tuple of:\n",
        "  - loss (L) as torch scalar\n",
        "  - gradient (dL/dW) of loss with respect to weights W; a tensor of same shape as W\n",
        "  \"\"\"\n",
        "  dW = torch.zeros_like(W) # initialize the gradient as zero\n",
        "  # 주. gradient (dL/dW)를 코드에서는 dW 혹은 grad_W 로 명명하는 경우가 많음.\n",
        "\n",
        "  # compute the loss and the gradient\n",
        "  num_classes = W.shape[1] # D by C --> C\n",
        "  num_train = X.shape[0] # N by D --> N\n",
        "  loss = 0.0\n",
        "  for i in range(num_train):\n",
        "    # below is W*x in the lecture note\n",
        "    # each sample is X[i,:]\n",
        "    # W*x\n",
        "    scores = W.t().mv(X[i])  # C by 1, [C]     # computes s_j (j=0, ..., C-1), W가 (D,C) 행렬이고 X[i]가 size D 벡터임에 주의\n",
        "\n",
        "    correct_class_score = scores[y[i]] # s_{y_i}, SVM loss 계산에 필요\n",
        "\n",
        "    for j in range(num_classes):       # L_i, SVM loss from each sample\n",
        "      if j == y[i]:\n",
        "        continue\n",
        "      margin = scores[j] - correct_class_score + 1 # note delta = 1\n",
        "      # W - (D,C), x - (D)\n",
        "\n",
        "      # margin = (W.t()[j]*x) - (W[y[i]]*x) => (C,D) * (D,1) - (C,D) * (D,1)\n",
        "\n",
        "\n",
        "\n",
        "      if margin > 0:\n",
        "        loss += margin\n",
        "        #######################################################################\n",
        "        # TODO:                                                               #\n",
        "        # Compute the gradient of the loss function and store it dW. (part 1) #\n",
        "        # Rather than first computing the loss and then computing the         #\n",
        "        # derivative, it is simple to compute the derivative at the same time #\n",
        "        # that the loss is being computed.                                    #\n",
        "        #######################################################################\n",
        "        # Replace \"pass\" statement with your code\n",
        "        # pass, compute dW\n",
        "\n",
        "        # compute gradient w.r.t W.t()[j] - x\n",
        "        # dW[??] = ??\n",
        "\n",
        "        # compute gradient w.r.t W.t()[y[i]] -  (-x)\n",
        "        # dW[??] = ??\n",
        "\n",
        "\n",
        "        #######################################################################\n",
        "        #                       END OF YOUR CODE                              #\n",
        "        #######################################################################\n",
        "\n",
        "\n",
        "  # Right now the loss is a sum over all training examples, but we want it\n",
        "  # to be an average instead so we divide by num_train.\n",
        "  loss /= num_train\n",
        "\n",
        "  # Add the L2 regularization to the loss.\n",
        "  loss += reg * torch.sum(W * W)\n",
        "\n",
        "  #############################################################################\n",
        "  # TODO:                                                                     #\n",
        "  # Compute the gradient of the loss function and store it in dW. (part 2)    #\n",
        "  #############################################################################\n",
        "  # Replace \"pass\" statement with your code\n",
        "  # dW = ....\n",
        "\n",
        "\n",
        "\n",
        "  #############################################################################\n",
        "  #                             END OF YOUR CODE                              #\n",
        "  #############################################################################\n",
        "\n",
        "  return loss, dW"
      ],
      "execution_count": null,
      "outputs": [
        {
          "output_type": "error",
          "ename": "SyntaxError",
          "evalue": "invalid syntax (<ipython-input-1-4009883b1377>, line 54)",
          "traceback": [
            "\u001b[0;36m  File \u001b[0;32m\"<ipython-input-1-4009883b1377>\"\u001b[0;36m, line \u001b[0;32m54\u001b[0m\n\u001b[0;31m    dW ..\u001b[0m\n\u001b[0m        ^\u001b[0m\n\u001b[0;31mSyntaxError\u001b[0m\u001b[0;31m:\u001b[0m invalid syntax\n"
          ]
        }
      ]
    },
    {
      "cell_type": "markdown",
      "metadata": {
        "id": "xTI4qN7S9aTr"
      },
      "source": [
        "Evaluate the naive implementation of the loss we provided for you. You will get around 9.000175."
      ]
    },
    {
      "cell_type": "code",
      "metadata": {
        "id": "Hxzu2uZq9P8P"
      },
      "source": [
        "# chunk 1.2\n",
        "# generate a random SVM weight tensor of small numbers\n",
        "coutils.utils.fix_random_seed()\n",
        "W = torch.randn(3073, 10, device=data_dict['X_val'].device) * 0.0001\n",
        "\n",
        "loss, grad = svm_loss_naive(W, data_dict['X_val'], data_dict['y_val'], 0.000005)\n",
        "print('loss: %f' % (loss, ))"
      ],
      "execution_count": null,
      "outputs": []
    },
    {
      "cell_type": "markdown",
      "metadata": {
        "id": "9LbRTXJ39Yp8"
      },
      "source": [
        "The `grad` returned from the function above is right now all zero. Derive and implement the gradient for the SVM cost function and implement it inline inside the function `svm_loss_naive`. You will find it helpful to interleave your new code inside the existing function.\n",
        "\n",
        "To check that you have implemented the gradient correctly, you can numerically estimate the gradient of the loss function and compare the numeric estimate to the gradient that you computed. We have provided code that does this for you (The relative errors should be less than `1e-6`)."
      ]
    },
    {
      "cell_type": "code",
      "metadata": {
        "id": "o3sMha4i9p_V",
        "colab": {
          "base_uri": "https://localhost:8080/",
          "height": 211
        },
        "outputId": "4e04a23a-d7a7-482d-c3fd-2e4861303b51"
      },
      "source": [
        "# chunk 1.3\n",
        "# Once you've implemented the gradient, recompute it with the code below\n",
        "# and gradient check it with the function we provided for you\n",
        "\n",
        "# Use a random W and a minibatch of data from the val set for gradient checking\n",
        "# For numeric gradient checking it is a good idea to use 64-bit floating point\n",
        "# numbers for increased numeric precision; however when actually training models\n",
        "# we usually use 32-bit floating point numbers for increased speed.\n",
        "coutils.utils.fix_random_seed()\n",
        "W = 0.0001 * torch.randn(3073, 10, device=data_dict['X_val'].device).double()\n",
        "batch_size = 64\n",
        "X_batch = data_dict['X_val'][:64].double()\n",
        "y_batch = data_dict['y_val'][:64]\n",
        "\n",
        "# Compute the loss and its gradient at W.\n",
        "loss, grad = svm_loss_naive(W.double(), X_batch, y_batch, reg=0.0)\n",
        "\n",
        "# Numerically compute the gradient along several randomly chosen dimensions, and\n",
        "# compare them with your analytically computed gradient. The numbers should\n",
        "# match almost exactly along all dimensions.\n",
        "f = lambda w: svm_loss_naive(w, X_batch, y_batch, reg=0.0)[0]\n",
        "grad_numerical = grad_check_sparse(f, W.double(), grad)\n",
        "\n",
        "# relative error : |target - original| / |original|"
      ],
      "execution_count": null,
      "outputs": [
        {
          "output_type": "error",
          "ename": "NameError",
          "evalue": "name 'coutils' is not defined",
          "traceback": [
            "\u001b[0;31m---------------------------------------------------------------------------\u001b[0m",
            "\u001b[0;31mNameError\u001b[0m                                 Traceback (most recent call last)",
            "\u001b[0;32m<ipython-input-2-a0d4b2318c67>\u001b[0m in \u001b[0;36m<cell line: 9>\u001b[0;34m()\u001b[0m\n\u001b[1;32m      7\u001b[0m \u001b[0;31m# numbers for increased numeric precision; however when actually training models\u001b[0m\u001b[0;34m\u001b[0m\u001b[0;34m\u001b[0m\u001b[0m\n\u001b[1;32m      8\u001b[0m \u001b[0;31m# we usually use 32-bit floating point numbers for increased speed.\u001b[0m\u001b[0;34m\u001b[0m\u001b[0;34m\u001b[0m\u001b[0m\n\u001b[0;32m----> 9\u001b[0;31m \u001b[0mcoutils\u001b[0m\u001b[0;34m.\u001b[0m\u001b[0mutils\u001b[0m\u001b[0;34m.\u001b[0m\u001b[0mfix_random_seed\u001b[0m\u001b[0;34m(\u001b[0m\u001b[0;34m)\u001b[0m\u001b[0;34m\u001b[0m\u001b[0;34m\u001b[0m\u001b[0m\n\u001b[0m\u001b[1;32m     10\u001b[0m \u001b[0mW\u001b[0m \u001b[0;34m=\u001b[0m \u001b[0;36m0.0001\u001b[0m \u001b[0;34m*\u001b[0m \u001b[0mtorch\u001b[0m\u001b[0;34m.\u001b[0m\u001b[0mrandn\u001b[0m\u001b[0;34m(\u001b[0m\u001b[0;36m3073\u001b[0m\u001b[0;34m,\u001b[0m \u001b[0;36m10\u001b[0m\u001b[0;34m,\u001b[0m \u001b[0mdevice\u001b[0m\u001b[0;34m=\u001b[0m\u001b[0mdata_dict\u001b[0m\u001b[0;34m[\u001b[0m\u001b[0;34m'X_val'\u001b[0m\u001b[0;34m]\u001b[0m\u001b[0;34m.\u001b[0m\u001b[0mdevice\u001b[0m\u001b[0;34m)\u001b[0m\u001b[0;34m.\u001b[0m\u001b[0mdouble\u001b[0m\u001b[0;34m(\u001b[0m\u001b[0;34m)\u001b[0m\u001b[0;34m\u001b[0m\u001b[0;34m\u001b[0m\u001b[0m\n\u001b[1;32m     11\u001b[0m \u001b[0mbatch_size\u001b[0m \u001b[0;34m=\u001b[0m \u001b[0;36m64\u001b[0m\u001b[0;34m\u001b[0m\u001b[0;34m\u001b[0m\u001b[0m\n",
            "\u001b[0;31mNameError\u001b[0m: name 'coutils' is not defined"
          ]
        }
      ]
    },
    {
      "cell_type": "markdown",
      "metadata": {
        "id": "lSdsG-L292Ww"
      },
      "source": [
        "Let's do the gradient check once again with regularization turned on. (You didn't forget the regularization gradient, did you?)\n",
        "\n",
        "You should see relative errors less than `1e-5`."
      ]
    },
    {
      "cell_type": "code",
      "metadata": {
        "id": "bH6lXxVn9xZk",
        "colab": {
          "base_uri": "https://localhost:8080/"
        },
        "outputId": "53c0d58f-2ee1-416a-cbe5-f0659d2e0901"
      },
      "source": [
        "# chunk 1.4\n",
        "# Use a minibatch of data from the val set for gradient checking\n",
        "coutils.utils.fix_random_seed()\n",
        "W = 0.0001 * torch.randn(3073, 10, device=data_dict['X_val'].device).double()\n",
        "batch_size = 64\n",
        "X_batch = data_dict['X_val'][:64].double()\n",
        "y_batch = data_dict['y_val'][:64]\n",
        "\n",
        "# Compute the loss and its gradient at W.\n",
        "loss, grad = svm_loss_naive(W.double(), X_batch, y_batch, reg=1e3)\n",
        "\n",
        "# Numerically compute the gradient along several randomly chosen dimensions, and\n",
        "# compare them with your analytically computed gradient. The numbers should\n",
        "# match almost exactly along all dimensions.\n",
        "f = lambda w: svm_loss_naive(w, X_batch, y_batch, reg=1e3)[0]\n",
        "grad_numerical = grad_check_sparse(f, W.double(), grad)"
      ],
      "execution_count": null,
      "outputs": [
        {
          "output_type": "stream",
          "name": "stdout",
          "text": [
            "numerical: -0.121624 analytic: -0.121624, relative error: 7.160875e-08\n",
            "numerical: 0.020923 analytic: 0.020923, relative error: 3.331613e-07\n",
            "numerical: -0.076604 analytic: -0.076604, relative error: 1.800879e-07\n",
            "numerical: 0.256069 analytic: 0.256069, relative error: 6.121908e-08\n",
            "numerical: -0.330089 analytic: -0.330089, relative error: 4.165267e-08\n",
            "numerical: 0.004713 analytic: 0.004713, relative error: 3.512375e-06\n",
            "numerical: 0.101968 analytic: 0.101968, relative error: 1.802643e-08\n",
            "numerical: 0.097235 analytic: 0.097235, relative error: 1.618033e-07\n",
            "numerical: -0.117112 analytic: -0.117112, relative error: 2.948518e-08\n",
            "numerical: -0.257260 analytic: -0.257260, relative error: 4.474401e-08\n"
          ]
        }
      ]
    },
    {
      "cell_type": "markdown",
      "metadata": {
        "id": "OeOlF_YJ-ApZ"
      },
      "source": [
        "Now, let's implement vectorized version of SVM: `svm_loss_vectorized`. It should compute the same inputs and outputs as the naive version before, but it should involve **no explicit loops**."
      ]
    },
    {
      "cell_type": "code",
      "metadata": {
        "id": "yYrN2JA0-Aoa"
      },
      "source": [
        "# vectorize code!\n",
        "# chunk 1.5\n",
        "def svm_loss_vectorized(W, X, y, reg):\n",
        "  \"\"\"\n",
        "  Structured SVM loss function, vectorized implementation. When you implment\n",
        "  the regularization over W, please DO NOT multiply the regularization term by\n",
        "  1/2 (no coefficient).\n",
        "\n",
        "  (Inputs and outputs are the same as svm_loss_naive.)\n",
        "\n",
        "  Inputs:\n",
        "  - W: A PyTorch tensor of shape (D, C) containing weights.\n",
        "  (주. 강의노트에서 W는 (C, D) 행렬로 설명되어 있었는데 본 실습노트에서는 transpose되어 있음)\n",
        "  - X: A PyTorch tensor of shape (N, D) containing a minibatch of data.\n",
        "  - y: A PyTorch tensor of shape (N,) containing training labels; y[i] = c means\n",
        "    that X[i] has label c, where 0 <= c < C.\n",
        "  - reg: (float) regularization strength\n",
        "\n",
        "  Returns a tuple of:\n",
        "  - loss as torch scalar\n",
        "  - gradient of loss with respect to weights W; a tensor of same shape as W\n",
        "  \"\"\"\n",
        "  loss = 0.0\n",
        "  dW = torch.zeros_like(W) # initialize the gradient as zero\n",
        "\n",
        "  #############################################################################\n",
        "  # TODO:                                                                     #\n",
        "  # Implement a vectorized version of the structured SVM loss, storing the    #\n",
        "  # result in loss.                                                           #\n",
        "  #############################################################################\n",
        "  # for i in range(num_train):\n",
        "  #   scores = W.t().mv(X[0], X[1], X[2] ..)  # C by 1     # computes s_j (j=0, ..., C-1), W가 (D,C) 행렬이고 X[i]가 size D 벡터임에 주의\n",
        "  #   correct_class_score = scores[y[i]] # s_{y_i}, SVM loss 계산에 필요\n",
        "  #   for j in range(num_classes):       # L_i, SVM loss from each sample\n",
        "  #     if j == y[i]:\n",
        "  #       continue\n",
        "  #     margin = scores[j] - correct_class_score + 1 # note delta = 1\n",
        "  #     if margin > 0:\n",
        "  #       loss += margin\n",
        "  #       dW[:,j] += X[i]\n",
        "  #       dW[:,y[i]] -= X[i]\n",
        "\n",
        "  num_classes = W.shape[1] # C\n",
        "  num_train = X.shape[0] # N\n",
        "\n",
        "  # scores = ...  # (NxC), use, torch.matmul(), scores = W.t().mv(X[0], X[1], X[2] ..)\n",
        "  scores = torch.matmul( X, W )  # N by C\n",
        "  #\n",
        "  # correct_class_score =                   # Nx1, correct_class_score = scores[y[i]]\n",
        "  correct_class_score = scores[ [torch.arange(num_train) ], y ]  # N  # integer indexing\n",
        "\n",
        "  #\n",
        "  # margins...             #  scores[j] - correct_class_score + 1 # note delta = 1\n",
        "  margins = scores - correct_class_score.reshape(num_train, 1) + 1\n",
        "\n",
        "  # margins...             #. if margin < 0, set it 0\n",
        "  margins[margins < 0] = 0\n",
        "\n",
        "  #\n",
        "  # loss =               # compute loss from margin\n",
        "  loss = margins.sum(dim=[0,1]) - num_train # 이 sum에는 j == y_i 인 경우도 포함되어 있음.\n",
        "  loss /= num_train\n",
        "  loss += reg * torch.sum(W * W)\n",
        "\n",
        "  #\n",
        "    # logical indexing\n",
        "\n",
        "\n",
        "\n",
        "  #############################################################################\n",
        "  #                             END OF YOUR CODE                              #\n",
        "  #############################################################################\n",
        "\n",
        "  #############################################################################\n",
        "  # TODO:                                                                     #\n",
        "  # Implement a vectorized version of the gradient for the structured SVM     #\n",
        "  # loss, storing the result in dW.                                           #\n",
        "  #                                                                           #\n",
        "  # Hint: Instead of computing the gradient from scratch, it may be easier    #\n",
        "  # to reuse some of the intermediate values that you used to compute the     #\n",
        "  # loss.                                                                     #\n",
        "  #############################################################################\n",
        "  # Replace \"pass\" statement with your code\n",
        "\n",
        "  binary = torch.zeros_like(margins)   # (N, C) matrix\n",
        "  binary[margins > 0] = 1    # j != y_i인 j에 대하여 positive margin은 1로 저장\n",
        "  row_sum = binary.sum(dim=1)   # Nx1\n",
        "  binary[ torch.arange(num_train), y ] -= row_sum.t()\n",
        "  dW = torch.matmul(X.t(), binary) # (DxN) * (NxC)\n",
        "\n",
        "  dW /= num_train\n",
        "  dW += 2 * reg * W\n",
        "  #############################################################################\n",
        "  #                             END OF YOUR CODE                              #\n",
        "  #############################################################################\n",
        "\n",
        "  return loss, dW"
      ],
      "execution_count": null,
      "outputs": []
    },
    {
      "cell_type": "markdown",
      "metadata": {
        "id": "sc5Wtu-e-WlI"
      },
      "source": [
        "Let's first check the speed and performance bewteen the non-vectorized and the vectorized version. You should see a speedup of more than 100x.\n",
        "\n",
        "(Note: It may have some difference, but should be less than 1e-6)"
      ]
    },
    {
      "cell_type": "code",
      "metadata": {
        "id": "pBLqLTAGo1Rs",
        "colab": {
          "base_uri": "https://localhost:8080/"
        },
        "outputId": "274fbb33-0a29-4c4f-97d1-249f642e168d"
      },
      "source": [
        "# chunk 1.6\n",
        "# Next implement the function svm_loss_vectorized; for now only compute the loss;\n",
        "# we will implement the gradient in a moment.\n",
        "\n",
        "# Use random weights and a minibatch of val data for gradient checking\n",
        "coutils.utils.fix_random_seed()\n",
        "W = 0.0001 * torch.randn(3073, 10, device=data_dict['X_val'].device).double()\n",
        "X_batch = data_dict['X_val'][:128].double()\n",
        "y_batch = data_dict['y_val'][:128]\n",
        "reg = 0.000005\n",
        "\n",
        "# Run and time the naive version\n",
        "torch.cuda.synchronize()\n",
        "tic = time.time()\n",
        "loss_naive, grad_naive = svm_loss_naive(W, X_batch, y_batch, reg)\n",
        "torch.cuda.synchronize()\n",
        "toc = time.time()\n",
        "ms_naive = 1000.0 * (toc - tic)\n",
        "print('Naive loss: %e computed in %.2fms' % (loss_naive, ms_naive))\n",
        "\n",
        "# Run and time the vectorized version\n",
        "torch.cuda.synchronize()\n",
        "tic = time.time()\n",
        "loss_vec, _ = svm_loss_vectorized(W, X_batch, y_batch, reg)\n",
        "torch.cuda.synchronize()\n",
        "toc = time.time()\n",
        "ms_vec = 1000.0 * (toc - tic)\n",
        "print(loss_vec)\n",
        "print(ms_vec)\n",
        "print('Vectorized loss: %e computed in %.2fms' % (loss_vec, ms_vec))\n",
        "\n",
        "# The losses should match but your vectorized implementation should be much faster.\n",
        "print('Difference: %.2e' % (loss_naive - loss_vec))\n",
        "print('Speedup: %.2fX' % (ms_naive / ms_vec))"
      ],
      "execution_count": null,
      "outputs": [
        {
          "output_type": "stream",
          "name": "stdout",
          "text": [
            "Naive loss: 9.000144e+00 computed in 248.44ms\n",
            "tensor(9.0001, device='cuda:0', dtype=torch.float64)\n",
            "514.434814453125\n",
            "Vectorized loss: 9.000144e+00 computed in 514.43ms\n",
            "Difference: -1.07e-14\n",
            "Speedup: 0.48X\n"
          ]
        }
      ]
    },
    {
      "cell_type": "markdown",
      "metadata": {
        "id": "cRDPpAMl-0WD"
      },
      "source": [
        "Then, let's compute the gradient of the loss function. We can check the difference of gradient as well. (The error should be less than 1e-6)\n",
        "\n",
        "Now implement a vectorized version of the gradient computation in `svm_loss_vectorize` above. Run the cell below to compare the gradient of your naive and vectorized implementations. The difference between the gradients should be less than `1e-6`, and the vectorized version should run at least 100x faster.\n"
      ]
    },
    {
      "cell_type": "code",
      "metadata": {
        "id": "3_SyWrTJ-OfX",
        "colab": {
          "base_uri": "https://localhost:8080/"
        },
        "outputId": "d00e3a2e-b092-47b0-8bbe-806e16c0f1a4"
      },
      "source": [
        "# chunk 1.7\n",
        "# The naive implementation and the vectorized implementation should match, but\n",
        "# the vectorized version should still be much faster.\n",
        "\n",
        "# Use random weights and a minibatch of val data for gradient checking\n",
        "coutils.utils.fix_random_seed()\n",
        "W = 0.0001 * torch.randn(3073, 10, device=data_dict['X_val'].device).double()\n",
        "X_batch = data_dict['X_val'][:128].double()\n",
        "y_batch = data_dict['y_val'][:128]\n",
        "reg = 0.000005\n",
        "\n",
        "# Run and time the naive version\n",
        "torch.cuda.synchronize()\n",
        "tic = time.time()\n",
        "_, grad_naive = svm_loss_naive(W, X_batch, y_batch, 0.000005)\n",
        "torch.cuda.synchronize()\n",
        "toc = time.time()\n",
        "ms_naive = 1000.0 * (toc - tic)\n",
        "print('Naive loss and gradient: computed in %.2fms' % ms_naive)\n",
        "\n",
        "# Run and time the vectorized version\n",
        "torch.cuda.synchronize()\n",
        "tic = time.time()\n",
        "_, grad_vec = svm_loss_vectorized(W, X_batch, y_batch, 0.000005)\n",
        "torch.cuda.synchronize()\n",
        "toc = time.time()\n",
        "ms_vec = 1000.0 * (toc - tic)\n",
        "print('Vectorized loss and gradient: computed in %.2fms' % ms_vec)\n",
        "\n",
        "# The loss is a single number, so it is easy to compare the values computed\n",
        "# by the two implementations. The gradient on the other hand is a tensor, so\n",
        "# we use the Frobenius norm to compare them.\n",
        "grad_difference = torch.norm(grad_naive - grad_vec, p='fro')\n",
        "print('Gradient difference: %.2e' % grad_difference)\n",
        "print('Speedup: %.2fX' % (ms_naive / ms_vec))"
      ],
      "execution_count": null,
      "outputs": [
        {
          "output_type": "stream",
          "name": "stdout",
          "text": [
            "Naive loss and gradient: computed in 238.93ms\n",
            "Vectorized loss and gradient: computed in 3.00ms\n",
            "Gradient difference: 0.00e+00\n",
            "Speedup: 79.72X\n"
          ]
        }
      ]
    },
    {
      "cell_type": "markdown",
      "metadata": {
        "id": "uU852IitCtrC"
      },
      "source": [
        "Now that we have an efficient vectorized implementation of the SVM loss and its gradient, we can implement a training pipeline for linear classifiers.\n",
        "\n",
        "Complete the implementation of the following function:\n"
      ]
    },
    {
      "cell_type": "code",
      "metadata": {
        "id": "YeRAY8TZAK22"
      },
      "source": [
        "# chunk 1.8\n",
        "def train_linear_classifier(loss_func, W, X, y, learning_rate=1e-3,\n",
        "                            reg=1e-5, num_iters=100, batch_size=200, verbose=False):\n",
        "  \"\"\"\n",
        "  Train this linear classifier using stochastic gradient descent.\n",
        "\n",
        "  Inputs:\n",
        "  - loss_func: loss function to use when training. It should take W, X, y\n",
        "    and reg as input, and output a tuple of (loss, dW)\n",
        "  - W: A PyTorch tensor of shape (D, C) giving the initial weights of the\n",
        "    classifier. If W is None then it will be initialized here.\n",
        "  - X: A PyTorch tensor of shape (N, D) containing training data; there are N\n",
        "    training samples each of dimension D.\n",
        "  - y: A PyTorch tensor of shape (N,) containing training labels; y[i] = c\n",
        "    means that X[i] has label 0 <= c < C for C classes.\n",
        "  - learning_rate: (float) learning rate for optimization.\n",
        "  - reg: (float) regularization strength.\n",
        "  - num_iters: (integer) number of steps to take when optimizing\n",
        "  - batch_size: (integer) number of training examples to use at each step.\n",
        "  - verbose: (boolean) If true, print progress during optimization.\n",
        "\n",
        "  Returns: A tuple of:\n",
        "  - W: The final value of the weight matrix and the end of optimization\n",
        "  - loss_history: A list of Python scalars giving the values of the loss at each\n",
        "    training iteration.\n",
        "  \"\"\"\n",
        "  # assume y takes values 0...K-1 where K is number of classes\n",
        "  num_classes = torch.max(y) + 1 # C\n",
        "  num_train, dim = X.shape   # N, D\n",
        "  if W is None:\n",
        "    # lazily initialize W\n",
        "    W = 0.000001 * torch.randn(dim, num_classes, device=X.device, dtype=X.dtype)\n",
        "\n",
        "  # Run stochastic gradient descent to optimize W\n",
        "  loss_history = []\n",
        "  for it in range(num_iters):\n",
        "    X_batch = None\n",
        "    y_batch = None\n",
        "    #########################################################################\n",
        "    # TODO:                                                                 #\n",
        "    # Sample batch_size elements from the training data and their           #\n",
        "    # corresponding labels to use in this round of gradient descent.        #\n",
        "    # Store the data in X_batch and their corresponding labels in           #\n",
        "    # y_batch; after sampling, X_batch should have shape (batch_size, dim)  #\n",
        "    # and y_batch should have shape (batch_size,)                           #\n",
        "    #                                                                       #\n",
        "    # Hint: Use torch.randint to generate indices.                          #\n",
        "    #########################################################################\n",
        "    # Replace \"pass\" statement with your code\n",
        "    # randomly smaple idices\n",
        "\n",
        "    random_idxs = ...\n",
        "    #\n",
        "    X_batch = ...\n",
        "    y_batch = ...\n",
        "    #########################################################################\n",
        "    #                       END OF YOUR CODE                                #\n",
        "    #########################################################################\n",
        "\n",
        "    # evaluate loss and gradient\n",
        "    loss, grad = loss_func(W, X_batch, y_batch, reg)\n",
        "    loss_history.append(loss.item())\n",
        "\n",
        "    # perform parameter update\n",
        "    #########################################################################\n",
        "    # TODO:                                                                 #\n",
        "    # Update the weights using the gradient and the learning rate.          #\n",
        "    #########################################################################\n",
        "    #\n",
        "    W = ....\n",
        "    #\n",
        "    #########################################################################\n",
        "    #                       END OF YOUR CODE                                #\n",
        "    #########################################################################\n",
        "\n",
        "    if verbose and it % 100 == 0:\n",
        "      print('iteration %d / %d: loss %f' % (it, num_iters, loss))\n",
        "\n",
        "  return W, loss_history"
      ],
      "execution_count": null,
      "outputs": []
    },
    {
      "cell_type": "markdown",
      "metadata": {
        "id": "c6IL1_D9wCbF"
      },
      "source": [
        "Once you have implemented the training function, run the following cell to train a linear classifier using some default hyperparameters:\n",
        "\n",
        "(You should see a final loss close to 9.0, and your training loop should run in about two seconds)"
      ]
    },
    {
      "cell_type": "code",
      "metadata": {
        "id": "QaEZkCe3-kOu",
        "colab": {
          "base_uri": "https://localhost:8080/"
        },
        "outputId": "615c6506-1f8a-4529-9311-abd9af91a17c"
      },
      "source": [
        "# chunk 1.9\n",
        "# fix random seed before we perform this operation\n",
        "coutils.utils.fix_random_seed()\n",
        "\n",
        "torch.cuda.synchronize()\n",
        "tic = time.time()\n",
        "\n",
        "W, loss_hist = train_linear_classifier(svm_loss_vectorized, None,\n",
        "                                       data_dict['X_train'],\n",
        "                                       data_dict['y_train'],\n",
        "                                       learning_rate=3e-11, reg=2.5e4,\n",
        "                                       num_iters=1500, verbose=True)\n",
        "\n",
        "torch.cuda.synchronize()\n",
        "toc = time.time()\n",
        "print('That took %fs' % (toc - tic))"
      ],
      "execution_count": null,
      "outputs": [
        {
          "output_type": "stream",
          "name": "stdout",
          "text": [
            "iteration 0 / 1500: loss 9.000759\n",
            "iteration 100 / 1500: loss 9.000790\n",
            "iteration 200 / 1500: loss 9.000771\n",
            "iteration 300 / 1500: loss 9.000764\n",
            "iteration 400 / 1500: loss 9.000766\n",
            "iteration 500 / 1500: loss 9.000767\n",
            "iteration 600 / 1500: loss 9.000770\n",
            "iteration 700 / 1500: loss 9.000747\n",
            "iteration 800 / 1500: loss 9.000765\n",
            "iteration 900 / 1500: loss 9.000761\n",
            "iteration 1000 / 1500: loss 9.000764\n",
            "iteration 1100 / 1500: loss 9.000766\n",
            "iteration 1200 / 1500: loss 9.000779\n",
            "iteration 1300 / 1500: loss 9.000757\n",
            "iteration 1400 / 1500: loss 9.000749\n",
            "That took 1.131259s\n"
          ]
        }
      ]
    },
    {
      "cell_type": "markdown",
      "metadata": {
        "id": "n8mz9aXfDrsF"
      },
      "source": [
        "A useful debugging strategy is to plot the loss as a function of iteration number. In this case it seems our hyperparameters are not good, since the training loss is not decreasing very fast.\n",
        "\n"
      ]
    },
    {
      "cell_type": "code",
      "metadata": {
        "id": "JJ8GjaZS_MLe",
        "colab": {
          "base_uri": "https://localhost:8080/",
          "height": 711
        },
        "outputId": "5e8610cb-6cb4-42d2-fdae-d85a5960f552"
      },
      "source": [
        "# chunk 1.10\n",
        "plt.plot(loss_hist, 'o')\n",
        "plt.xlabel('Iteration number')\n",
        "plt.ylabel('Loss value')\n",
        "plt.show()"
      ],
      "execution_count": null,
      "outputs": [
        {
          "output_type": "display_data",
          "data": {
            "text/plain": [
              "<Figure size 1000x800 with 1 Axes>"
            ],
            "image/png": "[encoded data removed]"
          },
          "metadata": {}
        }
      ]
    },
    {
      "cell_type": "markdown",
      "metadata": {
        "id": "hBzZNGNoD18s"
      },
      "source": [
        "Let's move on to the prediction stage:"
      ]
    },
    {
      "cell_type": "code",
      "metadata": {
        "id": "UdvAk57DD0xT"
      },
      "source": [
        "# chunk 1.11\n",
        "def predict_linear_classifier(W, X):\n",
        "  \"\"\"\n",
        "  Use the trained weights of this linear classifier to predict labels for\n",
        "  data points.\n",
        "\n",
        "  Inputs:\n",
        "  - W: A PyTorch tensor of shape (D, C), containing weights of a model\n",
        "  - X: A PyTorch tensor of shape (N, D) containing training data; there are N\n",
        "    training samples each of dimension D.\n",
        "\n",
        "  Returns:\n",
        "  - y_pred:  argmin_j (W^T X)_j (scalar, if X is D by 1)\n",
        "     ---> N by 1 (predicted labels for new X of sample size N)\n",
        "    PyTorch int64 tensor of shape (N,) giving predicted labels for each\n",
        "    elemment of X. Each element of y_pred should be between 0 and C - 1.\n",
        "  \"\"\"\n",
        "  y_pred = torch.zeros(X.shape[0])\n",
        "  ###########################################################################\n",
        "  # TODO:                                                                   #\n",
        "  # Implement this method. Store the predicted labels in y_pred.            #\n",
        "  ###########################################################################\n",
        "  # Replace \"pass\" statement with your code\n",
        "\n",
        "  y_pred = ...\n",
        "  _ , y_pred = ....\n",
        "\n",
        "  # use torch.max function\n",
        "\n",
        "  ###########################################################################\n",
        "  #                           END OF YOUR CODE                              #\n",
        "  ###########################################################################\n",
        "  return y_pred"
      ],
      "execution_count": null,
      "outputs": []
    },
    {
      "cell_type": "markdown",
      "metadata": {
        "id": "DRdfknKsE6F2"
      },
      "source": [
        "Then, let's evaluate the performance our trained model on both the training and validation set. You should see validation accuracy less than 10%."
      ]
    },
    {
      "cell_type": "code",
      "metadata": {
        "id": "YfToPzce_OBH",
        "colab": {
          "base_uri": "https://localhost:8080/",
          "height": 52
        },
        "outputId": "b4476b32-6a2c-4f53-b38d-9c0217a12916"
      },
      "source": [
        "# chunk 1.12\n",
        "# evaluate the performance on both the training and validation set\n",
        "y_train_pred = predict_linear_classifier(W, data_dict['X_train'])\n",
        "train_acc = 100.0 * (data_dict['y_train'] == y_train_pred).float().mean().item()\n",
        "print('Training accuracy: %.2f%%' % train_acc)\n",
        "y_val_pred = predict_linear_classifier(W, data_dict['X_val'])\n",
        "val_acc = 100.0 * (data_dict['y_val'] == y_val_pred).float().mean().item()\n",
        "print('Validation accuracy: %.2f%%' % val_acc)"
      ],
      "execution_count": null,
      "outputs": [
        {
          "output_type": "stream",
          "text": [
            "Training accuracy: 10.24%\n",
            "Validation accuracy: 10.20%\n"
          ],
          "name": "stdout"
        }
      ]
    },
    {
      "cell_type": "markdown",
      "metadata": {
        "id": "VWIyGnMOFOV8"
      },
      "source": [
        "Unfortunately, the performance of our initial model is quite bad. To find a better hyperparamters, let's first modulize the functions that we've implemented."
      ]
    },
    {
      "cell_type": "code",
      "metadata": {
        "id": "A1SfNxVs8OBv"
      },
      "source": [
        "# chunk 1.13\n",
        "# Note: We will re-use `LinearClassifier' in Softmax section\n",
        "class LinearClassifier(object):\n",
        "\n",
        "  def __init__(self):\n",
        "    self.W = None\n",
        "\n",
        "  def train(self, X_train, y_train, learning_rate=1e-3, reg=1e-5, num_iters=100,\n",
        "            batch_size=200, verbose=False):\n",
        "    train_args = (self.loss, self.W, X_train, y_train, learning_rate, reg,\n",
        "                  num_iters, batch_size, verbose)\n",
        "    self.W, loss_history = train_linear_classifier(*train_args)\n",
        "    return loss_history\n",
        "\n",
        "  def predict(self, X):\n",
        "    return predict_linear_classifier(self.W, X)\n",
        "\n",
        "  def loss(self, W, X_batch, y_batch, reg):\n",
        "    \"\"\"\n",
        "    Compute the loss function and its derivative.\n",
        "    Subclasses will override this.\n",
        "\n",
        "    Inputs:\n",
        "    - W: A PyTorch tensor of shape (D, C) containing (trained) weight of a model.\n",
        "    - X_batch: A PyTorch tensor of shape (N, D) containing a minibatch of N\n",
        "      data points; each point has dimension D.\n",
        "    - y_batch: A PyTorch tensor of shape (N,) containing labels for the minibatch.\n",
        "    - reg: (float) regularization strength.\n",
        "\n",
        "    Returns: A tuple containing:\n",
        "    - loss as a single float\n",
        "    - gradient with respect to self.W; an tensor of the same shape as W\n",
        "    \"\"\"\n",
        "    pass\n",
        "  def _loss(self, X_batch, y_batch, reg):\n",
        "    self.loss(self.W, X_batch, y_batch, reg)\n",
        "\n",
        "\n",
        "class LinearSVM(LinearClassifier):\n",
        "  \"\"\" A subclass that uses the Multiclass SVM loss function \"\"\"\n",
        "\n",
        "  def loss(self, W, X_batch, y_batch, reg):\n",
        "    return svm_loss_vectorized(W, X_batch, y_batch, reg)"
      ],
      "execution_count": null,
      "outputs": []
    },
    {
      "cell_type": "markdown",
      "metadata": {
        "id": "taNmjt2wGJQr"
      },
      "source": [
        "Now, please use the validation set to tune hyperparameters (regularization strength and learning rate). You should experiment with different ranges for the learning rates and regularization strengths.\n",
        "\n",
        "To get full credit for the assignment your best model found through cross-validation should achieve an accuracy of at least 37% on the validation set.\n",
        "\n",
        "(Our best model got over 40% -- did you beat us?)"
      ]
    },
    {
      "cell_type": "code",
      "metadata": {
        "id": "oVMsJ9Ti_Ude",
        "colab": {
          "base_uri": "https://localhost:8080/"
        },
        "outputId": "d1733a63-14ed-46d8-dca2-8fad6cfa1f40"
      },
      "source": [
        "# chunk 1.14\n",
        "# results is dictionary mapping tuples of the form\n",
        "# (learning_rate, regularization_strength) to tuples of the form\n",
        "# (training_accuracy, validation_accuracy). The accuracy is simply the fraction\n",
        "# of data points that are correctly classified.\n",
        "results = {}\n",
        "best_val = -1   # The highest validation accuracy that we have seen so far.\n",
        "best_svm = None # The LinearSVM object that achieved the highest validation rate.\n",
        "learning_rates = [1e-5, 1e-4, 1e-3, 1e-2] # learning rate candidates, e.g. [1e-3, 1e-2, ...]\n",
        "regularization_strengths = [1e-1, 1e0, 1e1, 1e2] # regularization strengths candidates e.g. [1e0, 1e1, ...]\n",
        "\n",
        "################################################################################\n",
        "# TODO:                                                                        #\n",
        "# Write code that chooses the best hyperparameters by tuning on the validation #\n",
        "# set. For each combination of hyperparameters, train a linear SVM on the      #\n",
        "# training set, compute its accuracy on the training and validation sets, and  #\n",
        "# store these numbers in the results dictionary. In addition, store the best   #\n",
        "# validation accuracy in best_val and the LinearSVM object that achieves this  #\n",
        "# accuracy in best_svm.                                                        #\n",
        "#                                                                              #\n",
        "# Hint: You should use a small value for num_iters as you develop your         #\n",
        "# validation code so that the SVMs don't take much time to train; once you are #\n",
        "# confident that your validation code works, you should rerun the validation   #\n",
        "# code with a larger value for num_iters.                                      #\n",
        "################################################################################\n",
        "# Replace \"pass\" statement with your code\n",
        "\n",
        "\n",
        "X_train = data_dict['X_train']\n",
        "y_train = data_dict['y_train']\n",
        "X_val = data_dict['X_val']\n",
        "y_val = data_dict['y_val']\n",
        "\n",
        "for lr in learning_rates:\n",
        "\tfor rs in regularization_strengths:\n",
        "\t\tprint('lr %e and rs %e ... ' % (lr, rs))\n",
        "\t\t# instantiate classifier\n",
        "\t\tsvm = ...\n",
        "\n",
        "\t\t# train classifier with given lr and rs\n",
        "\t\t...\n",
        "\n",
        "\t\t# predict values for train and valid\n",
        "\t\t...\n",
        "\n",
        "\t\t# compute accuracies\n",
        "\t\ttrain_accuracy = ...\n",
        "\t\tval_accuracy = ...\n",
        "\n",
        "\t\t# choose best accuracy\n",
        "\t\tif val_accuracy > best_val:\n",
        "\t\t\t...\n",
        "\n",
        "\t\t# store accuracies for given lr and rs\n",
        "\t\tresults ...\n",
        "\n",
        "################################################################################\n",
        "#                              END OF YOUR CODE                                #\n",
        "################################################################################\n",
        "\n",
        "# Print out results.\n",
        "for lr, reg in sorted(results):\n",
        "  train_accuracy, val_accuracy = results[(lr, reg)]\n",
        "  print('lr %e reg %e train accuracy: %f val accuracy: %f' % (\n",
        "         lr, reg, train_accuracy, val_accuracy))\n",
        "\n",
        "print('best validation accuracy achieved during validation: %f' % best_val)"
      ],
      "execution_count": null,
      "outputs": [
        {
          "output_type": "stream",
          "name": "stdout",
          "text": [
            "lr 1.000000e-05 and rs 1.000000e-01 ... \n",
            "iteration 0 / 1500: loss 9.000013\n",
            "iteration 100 / 1500: loss 8.871458\n",
            "iteration 200 / 1500: loss 8.759717\n",
            "iteration 300 / 1500: loss 8.602118\n",
            "iteration 400 / 1500: loss 8.458330\n",
            "iteration 500 / 1500: loss 8.283216\n",
            "iteration 600 / 1500: loss 8.279790\n",
            "iteration 700 / 1500: loss 8.147677\n",
            "iteration 800 / 1500: loss 8.251543\n",
            "iteration 900 / 1500: loss 8.014152\n",
            "iteration 1000 / 1500: loss 7.788023\n",
            "iteration 1100 / 1500: loss 7.772032\n",
            "iteration 1200 / 1500: loss 7.568255\n",
            "iteration 1300 / 1500: loss 7.817373\n",
            "iteration 1400 / 1500: loss 7.305145\n",
            "lr 1.000000e-05 and rs 1.000000e+00 ... \n",
            "iteration 0 / 1500: loss 8.999987\n",
            "iteration 100 / 1500: loss 8.857274\n",
            "iteration 200 / 1500: loss 8.694451\n",
            "iteration 300 / 1500: loss 8.524999\n",
            "iteration 400 / 1500: loss 8.471369\n",
            "iteration 500 / 1500: loss 8.302119\n",
            "iteration 600 / 1500: loss 8.245812\n",
            "iteration 700 / 1500: loss 8.135585\n",
            "iteration 800 / 1500: loss 8.007649\n",
            "iteration 900 / 1500: loss 7.840236\n",
            "iteration 1000 / 1500: loss 7.613377\n",
            "iteration 1100 / 1500: loss 7.816725\n",
            "iteration 1200 / 1500: loss 7.369150\n",
            "iteration 1300 / 1500: loss 7.432779\n",
            "iteration 1400 / 1500: loss 7.890509\n",
            "lr 1.000000e-05 and rs 1.000000e+01 ... \n",
            "iteration 0 / 1500: loss 9.000019\n",
            "iteration 100 / 1500: loss 8.887863\n",
            "iteration 200 / 1500: loss 8.779558\n",
            "iteration 300 / 1500: loss 8.596262\n",
            "iteration 400 / 1500: loss 8.479764\n",
            "iteration 500 / 1500: loss 8.398988\n",
            "iteration 600 / 1500: loss 8.280430\n",
            "iteration 700 / 1500: loss 8.165036\n",
            "iteration 800 / 1500: loss 8.159279\n",
            "iteration 900 / 1500: loss 8.025039\n",
            "iteration 1000 / 1500: loss 8.040632\n",
            "iteration 1100 / 1500: loss 7.520415\n",
            "iteration 1200 / 1500: loss 7.838872\n",
            "iteration 1300 / 1500: loss 7.765595\n",
            "iteration 1400 / 1500: loss 8.151164\n",
            "lr 1.000000e-05 and rs 1.000000e+02 ... \n",
            "iteration 0 / 1500: loss 9.000002\n",
            "iteration 100 / 1500: loss 8.907235\n",
            "iteration 200 / 1500: loss 8.783975\n",
            "iteration 300 / 1500: loss 8.886677\n",
            "iteration 400 / 1500: loss 8.767467\n",
            "iteration 500 / 1500: loss 8.719313\n",
            "iteration 600 / 1500: loss 8.828251\n",
            "iteration 700 / 1500: loss 8.587018\n",
            "iteration 800 / 1500: loss 8.632020\n",
            "iteration 900 / 1500: loss 8.744514\n",
            "iteration 1000 / 1500: loss 8.629219\n",
            "iteration 1100 / 1500: loss 8.708046\n",
            "iteration 1200 / 1500: loss 8.660019\n",
            "iteration 1300 / 1500: loss 8.788598\n",
            "iteration 1400 / 1500: loss 8.598445\n",
            "lr 1.000000e-04 and rs 1.000000e-01 ... \n",
            "iteration 0 / 1500: loss 9.000006\n",
            "iteration 100 / 1500: loss 7.828722\n",
            "iteration 200 / 1500: loss 7.157765\n",
            "iteration 300 / 1500: loss 6.641880\n",
            "iteration 400 / 1500: loss 6.439200\n",
            "iteration 500 / 1500: loss 6.685354\n",
            "iteration 600 / 1500: loss 6.562005\n",
            "iteration 700 / 1500: loss 5.999585\n",
            "iteration 800 / 1500: loss 6.542428\n",
            "iteration 900 / 1500: loss 5.827716\n",
            "iteration 1000 / 1500: loss 6.165572\n",
            "iteration 1100 / 1500: loss 5.476103\n",
            "iteration 1200 / 1500: loss 5.607572\n",
            "iteration 1300 / 1500: loss 5.720724\n",
            "iteration 1400 / 1500: loss 5.460621\n",
            "lr 1.000000e-04 and rs 1.000000e+00 ... \n",
            "iteration 0 / 1500: loss 9.000009\n",
            "iteration 100 / 1500: loss 7.790194\n",
            "iteration 200 / 1500: loss 7.598807\n",
            "iteration 300 / 1500: loss 7.215726\n",
            "iteration 400 / 1500: loss 7.156450\n",
            "iteration 500 / 1500: loss 6.270319\n",
            "iteration 600 / 1500: loss 7.064092\n",
            "iteration 700 / 1500: loss 6.147327\n",
            "iteration 800 / 1500: loss 6.426333\n",
            "iteration 900 / 1500: loss 6.430836\n",
            "iteration 1000 / 1500: loss 6.236825\n",
            "iteration 1100 / 1500: loss 6.173893\n",
            "iteration 1200 / 1500: loss 5.737486\n",
            "iteration 1300 / 1500: loss 5.754363\n",
            "iteration 1400 / 1500: loss 5.981756\n",
            "lr 1.000000e-04 and rs 1.000000e+01 ... \n",
            "iteration 0 / 1500: loss 9.000017\n",
            "iteration 100 / 1500: loss 8.162163\n",
            "iteration 200 / 1500: loss 7.488694\n",
            "iteration 300 / 1500: loss 7.348414\n",
            "iteration 400 / 1500: loss 7.669806\n",
            "iteration 500 / 1500: loss 7.235495\n",
            "iteration 600 / 1500: loss 7.436255\n",
            "iteration 700 / 1500: loss 7.095304\n",
            "iteration 800 / 1500: loss 7.043730\n",
            "iteration 900 / 1500: loss 7.398961\n",
            "iteration 1000 / 1500: loss 7.358455\n",
            "iteration 1100 / 1500: loss 7.203549\n",
            "iteration 1200 / 1500: loss 7.072815\n",
            "iteration 1300 / 1500: loss 7.295517\n",
            "iteration 1400 / 1500: loss 7.390250\n",
            "lr 1.000000e-04 and rs 1.000000e+02 ... \n",
            "iteration 0 / 1500: loss 9.000004\n",
            "iteration 100 / 1500: loss 8.713603\n",
            "iteration 200 / 1500: loss 8.835978\n",
            "iteration 300 / 1500: loss 8.606512\n",
            "iteration 400 / 1500: loss 8.534621\n",
            "iteration 500 / 1500: loss 8.652522\n",
            "iteration 600 / 1500: loss 8.673372\n",
            "iteration 700 / 1500: loss 8.631748\n",
            "iteration 800 / 1500: loss 8.785361\n",
            "iteration 900 / 1500: loss 8.535714\n",
            "iteration 1000 / 1500: loss 8.573812\n",
            "iteration 1100 / 1500: loss 8.684595\n",
            "iteration 1200 / 1500: loss 8.660619\n",
            "iteration 1300 / 1500: loss 8.687496\n",
            "iteration 1400 / 1500: loss 8.567051\n",
            "lr 1.000000e-03 and rs 1.000000e-01 ... \n",
            "iteration 0 / 1500: loss 9.000005\n",
            "iteration 100 / 1500: loss 5.873413\n",
            "iteration 200 / 1500: loss 5.432469\n",
            "iteration 300 / 1500: loss 5.368762\n",
            "iteration 400 / 1500: loss 5.328351\n",
            "iteration 500 / 1500: loss 4.847046\n",
            "iteration 600 / 1500: loss 4.863564\n",
            "iteration 700 / 1500: loss 4.877050\n",
            "iteration 800 / 1500: loss 5.039269\n",
            "iteration 900 / 1500: loss 4.763146\n",
            "iteration 1000 / 1500: loss 4.715690\n",
            "iteration 1100 / 1500: loss 4.749644\n",
            "iteration 1200 / 1500: loss 5.146722\n",
            "iteration 1300 / 1500: loss 4.721658\n",
            "iteration 1400 / 1500: loss 5.046525\n",
            "lr 1.000000e-03 and rs 1.000000e+00 ... \n",
            "iteration 0 / 1500: loss 9.000026\n",
            "iteration 100 / 1500: loss 6.154777\n",
            "iteration 200 / 1500: loss 6.181213\n",
            "iteration 300 / 1500: loss 5.889277\n",
            "iteration 400 / 1500: loss 5.662918\n",
            "iteration 500 / 1500: loss 6.461445\n",
            "iteration 600 / 1500: loss 5.625708\n",
            "iteration 700 / 1500: loss 5.959792\n",
            "iteration 800 / 1500: loss 6.086536\n",
            "iteration 900 / 1500: loss 5.426550\n",
            "iteration 1000 / 1500: loss 6.564553\n",
            "iteration 1100 / 1500: loss 5.830032\n",
            "iteration 1200 / 1500: loss 5.577638\n",
            "iteration 1300 / 1500: loss 5.654145\n",
            "iteration 1400 / 1500: loss 6.167217\n",
            "lr 1.000000e-03 and rs 1.000000e+01 ... \n",
            "iteration 0 / 1500: loss 9.000004\n",
            "iteration 100 / 1500: loss 7.208583\n",
            "iteration 200 / 1500: loss 7.750582\n",
            "iteration 300 / 1500: loss 7.517822\n",
            "iteration 400 / 1500: loss 7.067804\n",
            "iteration 500 / 1500: loss 7.084475\n",
            "iteration 600 / 1500: loss 7.482003\n",
            "iteration 700 / 1500: loss 7.479390\n",
            "iteration 800 / 1500: loss 7.706553\n",
            "iteration 900 / 1500: loss 7.597686\n",
            "iteration 1000 / 1500: loss 7.521179\n",
            "iteration 1100 / 1500: loss 7.352422\n",
            "iteration 1200 / 1500: loss 7.168905\n",
            "iteration 1300 / 1500: loss 7.487848\n",
            "iteration 1400 / 1500: loss 7.220880\n",
            "lr 1.000000e-03 and rs 1.000000e+02 ... \n",
            "iteration 0 / 1500: loss 8.999999\n",
            "iteration 100 / 1500: loss 8.778058\n",
            "iteration 200 / 1500: loss 8.781158\n",
            "iteration 300 / 1500: loss 8.684012\n",
            "iteration 400 / 1500: loss 8.612710\n",
            "iteration 500 / 1500: loss 8.738676\n",
            "iteration 600 / 1500: loss 8.868443\n",
            "iteration 700 / 1500: loss 8.607292\n",
            "iteration 800 / 1500: loss 8.746638\n",
            "iteration 900 / 1500: loss 8.699464\n",
            "iteration 1000 / 1500: loss 8.766887\n",
            "iteration 1100 / 1500: loss 8.559680\n",
            "iteration 1200 / 1500: loss 8.703492\n",
            "iteration 1300 / 1500: loss 8.761970\n",
            "iteration 1400 / 1500: loss 8.650006\n",
            "lr 1.000000e-02 and rs 1.000000e-01 ... \n",
            "iteration 0 / 1500: loss 9.000031\n",
            "iteration 100 / 1500: loss 4.923148\n",
            "iteration 200 / 1500: loss 5.263747\n",
            "iteration 300 / 1500: loss 4.886530\n",
            "iteration 400 / 1500: loss 4.769637\n",
            "iteration 500 / 1500: loss 5.186544\n",
            "iteration 600 / 1500: loss 4.985227\n",
            "iteration 700 / 1500: loss 5.077589\n",
            "iteration 800 / 1500: loss 4.839908\n",
            "iteration 900 / 1500: loss 5.118470\n",
            "iteration 1000 / 1500: loss 5.027797\n",
            "iteration 1100 / 1500: loss 4.628889\n",
            "iteration 1200 / 1500: loss 4.417890\n",
            "iteration 1300 / 1500: loss 4.799846\n",
            "iteration 1400 / 1500: loss 4.890657\n",
            "lr 1.000000e-02 and rs 1.000000e+00 ... \n",
            "iteration 0 / 1500: loss 8.999992\n",
            "iteration 100 / 1500: loss 5.538608\n",
            "iteration 200 / 1500: loss 5.768856\n",
            "iteration 300 / 1500: loss 5.880004\n",
            "iteration 400 / 1500: loss 6.285688\n",
            "iteration 500 / 1500: loss 5.518863\n",
            "iteration 600 / 1500: loss 6.319112\n",
            "iteration 700 / 1500: loss 6.173812\n",
            "iteration 800 / 1500: loss 6.243720\n",
            "iteration 900 / 1500: loss 5.828044\n",
            "iteration 1000 / 1500: loss 6.601942\n",
            "iteration 1100 / 1500: loss 6.177265\n",
            "iteration 1200 / 1500: loss 5.973193\n",
            "iteration 1300 / 1500: loss 5.388069\n",
            "iteration 1400 / 1500: loss 5.962990\n",
            "lr 1.000000e-02 and rs 1.000000e+01 ... \n",
            "iteration 0 / 1500: loss 9.000015\n",
            "iteration 100 / 1500: loss 7.765099\n",
            "iteration 200 / 1500: loss 7.602342\n",
            "iteration 300 / 1500: loss 7.317343\n",
            "iteration 400 / 1500: loss 7.302589\n",
            "iteration 500 / 1500: loss 7.897346\n",
            "iteration 600 / 1500: loss 7.770325\n",
            "iteration 700 / 1500: loss 8.058079\n",
            "iteration 800 / 1500: loss 7.447279\n",
            "iteration 900 / 1500: loss 7.454965\n",
            "iteration 1000 / 1500: loss 7.206297\n",
            "iteration 1100 / 1500: loss 7.491472\n",
            "iteration 1200 / 1500: loss 7.632081\n",
            "iteration 1300 / 1500: loss 7.468367\n",
            "iteration 1400 / 1500: loss 7.633838\n",
            "lr 1.000000e-02 and rs 1.000000e+02 ... \n",
            "iteration 0 / 1500: loss 8.999994\n",
            "iteration 100 / 1500: loss 11843.963867\n",
            "iteration 200 / 1500: loss 48763.589844\n",
            "iteration 300 / 1500: loss 112192.562500\n",
            "iteration 400 / 1500: loss 201066.187500\n",
            "iteration 500 / 1500: loss 314570.843750\n",
            "iteration 600 / 1500: loss 457309.531250\n",
            "iteration 700 / 1500: loss 624930.437500\n",
            "iteration 800 / 1500: loss 819768.375000\n",
            "iteration 900 / 1500: loss 1038650.437500\n",
            "iteration 1000 / 1500: loss 1281068.000000\n",
            "iteration 1100 / 1500: loss 1549048.250000\n",
            "iteration 1200 / 1500: loss 1841517.375000\n",
            "iteration 1300 / 1500: loss 2158745.250000\n",
            "iteration 1400 / 1500: loss 2501837.250000\n",
            "lr 1.000000e-05 reg 1.000000e-01 train accuracy: 0.251816 val accuracy: 0.264000\n",
            "lr 1.000000e-05 reg 1.000000e+00 train accuracy: 0.252184 val accuracy: 0.266000\n",
            "lr 1.000000e-05 reg 1.000000e+01 train accuracy: 0.251755 val accuracy: 0.264000\n",
            "lr 1.000000e-05 reg 1.000000e+02 train accuracy: 0.243633 val accuracy: 0.258000\n",
            "lr 1.000000e-04 reg 1.000000e-01 train accuracy: 0.323510 val accuracy: 0.339000\n",
            "lr 1.000000e-04 reg 1.000000e+00 train accuracy: 0.319224 val accuracy: 0.330000\n",
            "lr 1.000000e-04 reg 1.000000e+01 train accuracy: 0.290143 val accuracy: 0.300000\n",
            "lr 1.000000e-04 reg 1.000000e+02 train accuracy: 0.244265 val accuracy: 0.257000\n",
            "lr 1.000000e-03 reg 1.000000e-01 train accuracy: 0.379551 val accuracy: 0.377000\n",
            "lr 1.000000e-03 reg 1.000000e+00 train accuracy: 0.357102 val accuracy: 0.371000\n",
            "lr 1.000000e-03 reg 1.000000e+01 train accuracy: 0.282224 val accuracy: 0.289000\n",
            "lr 1.000000e-03 reg 1.000000e+02 train accuracy: 0.213755 val accuracy: 0.217000\n",
            "lr 1.000000e-02 reg 1.000000e-01 train accuracy: 0.389939 val accuracy: 0.399000\n",
            "lr 1.000000e-02 reg 1.000000e+00 train accuracy: 0.349245 val accuracy: 0.354000\n",
            "lr 1.000000e-02 reg 1.000000e+01 train accuracy: 0.279959 val accuracy: 0.283000\n",
            "lr 1.000000e-02 reg 1.000000e+02 train accuracy: 0.061714 val accuracy: 0.068000\n",
            "best validation accuracy achieved during validation: 0.399000\n"
          ]
        }
      ]
    },
    {
      "cell_type": "markdown",
      "metadata": {
        "id": "wBbvJvMeGZ-7"
      },
      "source": [
        "Visualize the cross-validation results. You can use this as a debugging tool -- after examining the cross-validation results here, you may want to go back and rerun your cross-validation from above."
      ]
    },
    {
      "cell_type": "code",
      "metadata": {
        "id": "QbPffK9H_ZGj",
        "colab": {
          "base_uri": "https://localhost:8080/",
          "height": 957
        },
        "outputId": "65b4a9ac-8172-4f30-f78d-f8e4039272a1"
      },
      "source": [
        "# chunk 1.15\n",
        "\n",
        "x_scatter = [math.log10(x[0]) for x in results]\n",
        "y_scatter = [math.log10(x[1]) for x in results]\n",
        "\n",
        "# plot training accuracy\n",
        "marker_size = 100\n",
        "colors = [results[x][0].cpu() for x in results]\n",
        "plt.scatter(x_scatter, y_scatter, marker_size, c=colors, cmap='viridis')\n",
        "plt.colorbar()\n",
        "plt.xlabel('log learning rate')\n",
        "plt.ylabel('log regularization strength')\n",
        "plt.title('CIFAR-10 training accuracy')\n",
        "plt.gcf().set_size_inches(8, 5)\n",
        "plt.show()\n",
        "\n",
        "# plot validation accuracy\n",
        "colors = [results[x][1].cpu() for x in results] # default size of markers is 20\n",
        "plt.scatter(x_scatter, y_scatter, marker_size, c=colors, cmap='viridis')\n",
        "plt.colorbar()\n",
        "plt.xlabel('log learning rate')\n",
        "plt.ylabel('log regularization strength')\n",
        "plt.title('CIFAR-10 validation accuracy')\n",
        "plt.gcf().set_size_inches(8, 5)\n",
        "plt.show()"
      ],
      "execution_count": null,
      "outputs": [
        {
          "output_type": "display_data",
          "data": {
            "text/plain": [
              "<Figure size 800x500 with 2 Axes>"
            ],
            "image/png": "[encoded data removed]"
          },
          "metadata": {}
        },
        {
          "output_type": "display_data",
          "data": {
            "text/plain": [
              "<Figure size 800x500 with 2 Axes>"
            ],
            "image/png": "[encoded data removed]"
          },
          "metadata": {}
        }
      ]
    },
    {
      "cell_type": "markdown",
      "metadata": {
        "id": "MCMVzxquGf1O"
      },
      "source": [
        "Evaluate the best svm on test set. To get full credit for the assignment you should achieve a test-set accuracy above 35%.\n",
        "\n",
        "(Our best was over 38% -- did you beat us?)"
      ]
    },
    {
      "cell_type": "code",
      "metadata": {
        "id": "maJ7use3_soL",
        "colab": {
          "base_uri": "https://localhost:8080/"
        },
        "outputId": "8d9b1846-3a26-4a96-8dcc-e4a413ff6718"
      },
      "source": [
        "# chunk 1.16\n",
        "y_test_pred = best_svm.predict(data_dict['X_test'])\n",
        "test_accuracy = torch.mean((data_dict['y_test'] == y_test_pred).float())\n",
        "print('linear SVM on raw pixels final test set accuracy: %f' % test_accuracy)"
      ],
      "execution_count": null,
      "outputs": [
        {
          "output_type": "stream",
          "name": "stdout",
          "text": [
            "linear SVM on raw pixels final test set accuracy: 0.375400\n"
          ]
        }
      ]
    },
    {
      "cell_type": "markdown",
      "metadata": {
        "id": "I-QVIG4fGiqJ"
      },
      "source": [
        "Visualize the learned weights for each class. Depending on your choice of learning rate and regularization strength, these may or may not be nice to look at."
      ]
    },
    {
      "cell_type": "code",
      "metadata": {
        "id": "McLHYtFd_vSI",
        "colab": {
          "base_uri": "https://localhost:8080/",
          "height": 528
        },
        "outputId": "d5cabbe1-d608-4f26-dcbc-fa6cbeb4021c"
      },
      "source": [
        "# chunk 1.17\n",
        "w = best_svm.W[:-1,:] # strip out the bias\n",
        "w = w.reshape(3, 32, 32, 10)\n",
        "w = w.transpose(0, 2).transpose(1, 0)\n",
        "\n",
        "w_min, w_max = torch.min(w), torch.max(w)\n",
        "classes = ['plane', 'car', 'bird', 'cat', 'deer', 'dog', 'frog', 'horse', 'ship', 'truck']\n",
        "for i in range(10):\n",
        "  plt.subplot(2, 5, i + 1)\n",
        "\n",
        "  # Rescale the weights to be between 0 and 255\n",
        "  wimg = 255.0 * (w[:, :, :, i].squeeze() - w_min) / (w_max - w_min)\n",
        "  plt.imshow(wimg.type(torch.uint8).cpu())\n",
        "  plt.axis('off')\n",
        "  plt.title(classes[i])\n",
        "  # learned weight W (3073 by 10) -> (bias 제외) -> (32 by 32 by 3 by 10)"
      ],
      "execution_count": null,
      "outputs": [
        {
          "output_type": "display_data",
          "data": {
            "text/plain": [
              "<Figure size 1000x800 with 10 Axes>"
            ],
            "image/png": "[encoded data removed]"
          },
          "metadata": {}
        }
      ]
    },
    {
      "cell_type": "markdown",
      "metadata": {
        "id": "DkuwyMY27RxS"
      },
      "source": [
        "## 2. Softmax Classifier\n",
        "\n",
        "Similar to the SVM, you will:\n",
        "\n",
        "- implement a fully-vectorized **loss function** for the Softmax classifier\n",
        "- implement the fully-vectorized expression for its **analytic gradient**\n",
        "- **check your implementation** with numerical gradient\n",
        "- use a validation set to **tune the learning rate and regularization** strength\n",
        "- **optimize** the loss function with **SGD**\n",
        "- **visualize** the final learned weights"
      ]
    },
    {
      "cell_type": "markdown",
      "metadata": {
        "id": "hLJMVGtvIgo3"
      },
      "source": [
        "First, let's start from implementing the naive softmax loss function with nested loops.\n"
      ]
    },
    {
      "cell_type": "code",
      "metadata": {
        "id": "w3MDCs7Cwss8"
      },
      "source": [
        "# chunk 2.1\n",
        "def softmax_loss_naive(W, X, y, reg):\n",
        "  \"\"\"\n",
        "  Softmax loss function, naive implementation (with loops).  When you implment\n",
        "  the regularization over W, please DO NOT multiply the regularization term by\n",
        "  1/2 (no coefficient).\n",
        "\n",
        "  Inputs have dimension D, there are C classes, and we operate on minibatches\n",
        "  of N examples.\n",
        "\n",
        "  Inputs:\n",
        "  - W: A PyTorch tensor of shape (D, C) containing weights.\n",
        "  - X: A PyTorch tensor of shape (N, D) containing a minibatch of data.\n",
        "  - y: A PyTorch tensor of shape (N,) containing training labels; y[i] = c means\n",
        "    that X[i] has label c, where 0 <= c < C.\n",
        "  - reg: (float) regularization strength\n",
        "\n",
        "  Returns a tuple of:\n",
        "  - loss as single float\n",
        "  - gradient with respect to weights W; an tensor of same shape as W\n",
        "  \"\"\"\n",
        "  # Initialize the loss and gradient to zero.\n",
        "  loss = 0.0\n",
        "  dW = torch.zeros_like(W)\n",
        "\n",
        "  #############################################################################\n",
        "  # TODO: Compute the softmax loss and its gradient using explicit loops.     #\n",
        "  # Store the loss in loss and the gradient in dW. If you are not careful     #\n",
        "  # here, it is easy to run into numeric instability (Check Numeric Stability #\n",
        "  # in http://cs231n.github.io/linear-classify/). Plus, don't forget the      #\n",
        "  # regularization!                                                           #\n",
        "  #############################################################################\n",
        "  # Replace \"pass\" statement with your code\n",
        "  pass\n",
        "  #############################################################################\n",
        "  #                          END OF YOUR CODE                                 #\n",
        "  #############################################################################\n",
        "\n",
        "  return loss, dW"
      ],
      "execution_count": null,
      "outputs": []
    },
    {
      "cell_type": "markdown",
      "metadata": {
        "id": "cER8fiSq7Ys-"
      },
      "source": [
        "As a sanity check to see whether we have implemented the loss correctly, run the softmax classifier with a small random weight matrix and no regularization. You should see loss near log(10) = 2.3"
      ]
    },
    {
      "cell_type": "code",
      "metadata": {
        "id": "V9q77O7F7VI6"
      },
      "source": [
        "# chunk 2.2\n",
        "# Generate a random softmax weight tensor and use it to compute the loss.\n",
        "coutils.utils.fix_random_seed()\n",
        "W = 0.0001 * torch.randn(3073, 10, device=data_dict['X_val'].device).double()\n",
        "\n",
        "X_batch = data_dict['X_val'][:128].double()\n",
        "y_batch = data_dict['y_val'][:128]\n",
        "\n",
        "# Complete the implementation of softmax_loss_naive and implement a (naive)\n",
        "# version of the gradient that uses nested loops.\n",
        "loss, grad = softmax_loss_naive(W, X_batch, y_batch, reg=0.0)\n",
        "\n",
        "# As a rough sanity check, our loss should be something close to log(10.0).\n",
        "print('loss: %f' % loss)\n",
        "print('sanity check: %f' % (math.log(10.0)))"
      ],
      "execution_count": null,
      "outputs": []
    },
    {
      "cell_type": "markdown",
      "metadata": {
        "id": "5QJzUHl5I0HH"
      },
      "source": [
        "Next, we use gradient checking to debug the analytic gradient of our naive softmax loss function. If you've implemented the gradient correctly, you should see relative errors less than `1e-6`.\n"
      ]
    },
    {
      "cell_type": "code",
      "metadata": {
        "id": "Lj6YpN3q1hVG"
      },
      "source": [
        "# chunk 2.3\n",
        "coutils.utils.fix_random_seed()\n",
        "W = 0.0001 * torch.randn(3073, 10, device=data_dict['X_val'].device).double()\n",
        "X_batch = data_dict['X_val'][:128].double()\n",
        "y_batch = data_dict['y_val'][:128]\n",
        "\n",
        "loss, grad = softmax_loss_naive(W, X_batch, y_batch, reg=0.0)\n",
        "\n",
        "f = lambda w: softmax_loss_naive(w, X_batch, y_batch, reg=0.0)[0]\n",
        "grad_check_sparse(f, W, grad, 10)"
      ],
      "execution_count": null,
      "outputs": []
    },
    {
      "cell_type": "markdown",
      "metadata": {
        "id": "cFcgeajBI-L3"
      },
      "source": [
        "Let's perform another gradient check with regularization enabled. Again you should see relative errors less than `1e-6`."
      ]
    },
    {
      "cell_type": "code",
      "metadata": {
        "id": "Ik0i21sszZzg"
      },
      "source": [
        "# chunk 2.4\n",
        "coutils.utils.fix_random_seed()\n",
        "W = 0.0001 * torch.randn(3073, 10, device=data_dict['X_val'].device).double()\n",
        "reg = 10.0\n",
        "\n",
        "X_batch = data_dict['X_val'][:128].double()\n",
        "y_batch = data_dict['y_val'][:128]\n",
        "\n",
        "loss, grad = softmax_loss_naive(W, X_batch, y_batch, reg)\n",
        "\n",
        "f = lambda w: softmax_loss_naive(w, X_batch, y_batch, reg)[0]\n",
        "grad_check_sparse(f, W, grad, 10)"
      ],
      "execution_count": null,
      "outputs": []
    },
    {
      "cell_type": "markdown",
      "metadata": {
        "id": "JQgRzrdRJAm7"
      },
      "source": [
        "Then, let's move on to the vectorized form"
      ]
    },
    {
      "cell_type": "code",
      "metadata": {
        "id": "bYlTPinzwv3x"
      },
      "source": [
        "# chunk 2.5\n",
        "def softmax_loss_vectorized(W, X, y, reg):\n",
        "  \"\"\"\n",
        "  Softmax loss function, vectorized version.  When you implment the\n",
        "  regularization over W, please DO NOT multiply the regularization term by 1/2\n",
        "  (no coefficient).\n",
        "\n",
        "  Inputs and outputs are the same as softmax_loss_naive.\n",
        "  \"\"\"\n",
        "  # Initialize the loss and gradient to zero.\n",
        "  loss = 0.0\n",
        "  dW = torch.zeros_like(W)\n",
        "\n",
        "  #############################################################################\n",
        "  # TODO: Compute the softmax loss and its gradient using no explicit loops.  #\n",
        "  # Store the loss in loss and the gradient in dW. If you are not careful     #\n",
        "  # here, it is easy to run into numeric instability (Check Numeric Stability #\n",
        "  # in http://cs231n.github.io/linear-classify/). Don't forget the            #\n",
        "  # regularization!                                                           #\n",
        "  #############################################################################\n",
        "  # Replace \"pass\" statement with your code\n",
        "  pass\n",
        "  #############################################################################\n",
        "  #                          END OF YOUR CODE                                 #\n",
        "  #############################################################################\n",
        "\n",
        "  return loss, dW"
      ],
      "execution_count": null,
      "outputs": []
    },
    {
      "cell_type": "markdown",
      "metadata": {
        "id": "88xZ0rbLJGKV"
      },
      "source": [
        "Now that we have a naive implementation of the softmax loss function and its gradient, implement a vectorized version in softmax_loss_vectorized. The two versions should compute the same results, but the vectorized version should be much faster.\n",
        "\n",
        "The differences between the naive and vectorized losses and gradients should both be less than `1e-6`, and your vectorized implementation should be at least 100x faster than the naive implementation."
      ]
    },
    {
      "cell_type": "code",
      "metadata": {
        "id": "lGNAe-oP1dds"
      },
      "source": [
        "# chunk 2.6\n",
        "coutils.utils.fix_random_seed()\n",
        "W = 0.0001 * torch.randn(3073, 10, device=data_dict['X_val'].device)\n",
        "reg = 0.05\n",
        "\n",
        "X_batch = data_dict['X_val'][:128]\n",
        "y_batch = data_dict['y_val'][:128]\n",
        "\n",
        "# Run and time the naive version\n",
        "torch.cuda.synchronize()\n",
        "tic = time.time()\n",
        "loss_naive, grad_naive = softmax_loss_naive(W, X_batch, y_batch, reg)\n",
        "torch.cuda.synchronize()\n",
        "toc = time.time()\n",
        "ms_naive = 1000.0 * (toc - tic)\n",
        "print('naive loss: %e computed in %fs' % (loss_naive, ms_naive))\n",
        "\n",
        "# Run and time the vectorized version\n",
        "torch.cuda.synchronize()\n",
        "tic = time.time()\n",
        "loss_vec, grad_vec = softmax_loss_vectorized(W, X_batch, y_batch, reg)\n",
        "torch.cuda.synchronize()\n",
        "toc = time.time()\n",
        "ms_vec = 1000.0 * (toc - tic)\n",
        "print('vectorized loss: %e computed in %fs' % (loss_vec, ms_vec))\n",
        "\n",
        "# we use the Frobenius norm to compare the two versions of the gradient.\n",
        "loss_diff = (loss_naive - loss_vec).abs().item()\n",
        "grad_diff = torch.norm(grad_naive - grad_vec, p='fro')\n",
        "print('Loss difference: %.2e' % loss_diff)\n",
        "print('Gradient difference: %.2e' % grad_diff)\n",
        "print('Speedup: %.2fX' % (ms_naive / ms_vec))"
      ],
      "execution_count": null,
      "outputs": []
    },
    {
      "cell_type": "markdown",
      "metadata": {
        "id": "bqZScXKyq6WB"
      },
      "source": [
        "Let's check that your implementation of the softmax loss is numerically stable.\n",
        "\n",
        "If either of the following print `nan` then you should double-check the numeric stability of your implementations."
      ]
    },
    {
      "cell_type": "code",
      "metadata": {
        "id": "bCyFPWxxq58R"
      },
      "source": [
        "# chunk 2.7\n",
        "device = data_dict['X_train'].device\n",
        "dtype = torch.float32\n",
        "D = data_dict['X_train'].shape[1]\n",
        "C = 10\n",
        "\n",
        "W_ones = torch.ones(D, C, device=device, dtype=dtype)\n",
        "W, loss_hist = train_linear_classifier(softmax_loss_naive, W_ones,\n",
        "                                       data_dict['X_train'],\n",
        "                                       data_dict['y_train'],\n",
        "                                       learning_rate=1e-8, reg=2.5e4,\n",
        "                                       num_iters=1, verbose=True)\n",
        "\n",
        "\n",
        "W_ones = torch.ones(D, C, device=device, dtype=dtype)\n",
        "W, loss_hist = train_linear_classifier(softmax_loss_vectorized, W_ones,\n",
        "                                       data_dict['X_train'],\n",
        "                                       data_dict['y_train'],\n",
        "                                       learning_rate=1e-8, reg=2.5e4,\n",
        "                                       num_iters=1, verbose=True)\n"
      ],
      "execution_count": null,
      "outputs": []
    },
    {
      "cell_type": "markdown",
      "metadata": {
        "id": "kR4JGKoek8FB"
      },
      "source": [
        "Now lets train a softmax classifier with some default hyperparameters:\n"
      ]
    },
    {
      "cell_type": "code",
      "metadata": {
        "id": "Kqga1rvjk7b8"
      },
      "source": [
        "# chunk 2.8\n",
        "# fix random seed before we perform this operation\n",
        "coutils.utils.fix_random_seed(10)\n",
        "\n",
        "torch.cuda.synchronize()\n",
        "tic = time.time()\n",
        "\n",
        "W, loss_hist = train_linear_classifier(softmax_loss_vectorized, None,\n",
        "                                       data_dict['X_train'],\n",
        "                                       data_dict['y_train'],\n",
        "                                       learning_rate=1e-10, reg=2.5e4,\n",
        "                                       num_iters=1500, verbose=True)\n",
        "\n",
        "torch.cuda.synchronize()\n",
        "toc = time.time()\n",
        "print('That took %fs' % (toc - tic))"
      ],
      "execution_count": null,
      "outputs": []
    },
    {
      "cell_type": "markdown",
      "metadata": {
        "id": "QKjxCGwkorCc"
      },
      "source": [
        "Plot the loss curve:"
      ]
    },
    {
      "cell_type": "code",
      "metadata": {
        "id": "K29x-DWNoujL"
      },
      "source": [
        "# chunk 2.9\n",
        "plt.plot(loss_hist, 'o')\n",
        "plt.xlabel('Iteration number')\n",
        "plt.ylabel('Loss value')\n",
        "plt.show()"
      ],
      "execution_count": null,
      "outputs": []
    },
    {
      "cell_type": "markdown",
      "metadata": {
        "id": "7WvpBuJWSwfd"
      },
      "source": [
        "Let's compute the accuracy of current model. It should be less than 10%."
      ]
    },
    {
      "cell_type": "code",
      "metadata": {
        "id": "zb8kY2MjSvfH"
      },
      "source": [
        "# chunk 2.10\n",
        "# evaluate the performance on both the training and validation set\n",
        "y_train_pred = predict_linear_classifier(W, data_dict['X_train'])\n",
        "train_acc = 100.0 * (data_dict['y_train'] == y_train_pred).float().mean().item()\n",
        "print('training accuracy: %.2f%%' % train_acc)\n",
        "y_val_pred = predict_linear_classifier(W, data_dict['X_val'])\n",
        "val_acc = 100.0 * (data_dict['y_val'] == y_val_pred).float().mean().item()\n",
        "print('validation accuracy: %.2f%%' % val_acc)"
      ],
      "execution_count": null,
      "outputs": []
    },
    {
      "cell_type": "markdown",
      "metadata": {
        "id": "IuV0BZvzJirI"
      },
      "source": [
        "Now use the validation set to tune hyperparameters (regularization strength and learning rate). You should experiment with different ranges for the learning rates and regularization strengths.\n",
        "\n",
        "To get full credit for the assignment, your best model found through cross-validation should achieve an accuracy above 0.37 on the validation set.\n",
        "\n",
        "(Our best model was above 0.40 -- did you beat us?)"
      ]
    },
    {
      "cell_type": "code",
      "metadata": {
        "id": "TGyf3TkWB-Er"
      },
      "source": [
        "# chunk 2.11\n",
        "class Softmax(LinearClassifier):\n",
        "  \"\"\" A subclass that uses the Softmax + Cross-entropy loss function \"\"\"\n",
        "  def loss(self, W, X_batch, y_batch, reg):\n",
        "    return softmax_loss_vectorized(W, X_batch, y_batch, reg)"
      ],
      "execution_count": null,
      "outputs": []
    },
    {
      "cell_type": "code",
      "metadata": {
        "id": "68lmNVj31ddu"
      },
      "source": [
        "# chunk 2.12\n",
        "results = {}\n",
        "best_val = -1\n",
        "best_softmax = None\n",
        "\n",
        "learning_rates = [1e-5, 1e-4, 1e-3, 1e-2] # learning rate candidates, e.g. [1e-3, 1e-2, ...]\n",
        "regularization_strengths = [1e-1, 1e0, 1e1, 1e2] # regularization strengths candidates e.g. [1e0, 1e1, ...]\n",
        "\n",
        "# As before, store your cross-validation results in this dictionary.\n",
        "# The keys should be tuples of (learning_rate, regularization_strength) and\n",
        "# the values should be tuples (train_accuracy, val_accuracy)\n",
        "results = {}\n",
        "\n",
        "################################################################################\n",
        "# TODO:                                                                        #\n",
        "# Use the validation set to set the learning rate and regularization strength. #\n",
        "# This should be similar to the cross-validation that you used for the SVM,    #\n",
        "# but you may need to select different hyperparameters to achieve good         #\n",
        "# performance with the softmax classifier. Save your best trained softmax      #\n",
        "# classifer in best_softmax.                                                   #\n",
        "################################################################################\n",
        "# Replace \"pass\" statement with your code\n",
        "pass\n",
        "################################################################################\n",
        "#                              END OF YOUR CODE                                #\n",
        "################################################################################\n",
        "\n",
        "# Print out results.\n",
        "for lr, reg in sorted(results):\n",
        "    train_accuracy, val_accuracy = results[(lr, reg)]\n",
        "    print('lr %e reg %e train accuracy: %f val accuracy: %f' % (\n",
        "                lr, reg, train_accuracy, val_accuracy))\n",
        "\n",
        "print('best validation accuracy achieved during cross-validation: %f' % best_val)"
      ],
      "execution_count": null,
      "outputs": []
    },
    {
      "cell_type": "markdown",
      "metadata": {
        "id": "efougAmNCFLo"
      },
      "source": [
        "Run the following to visualize your cross-validation results:"
      ]
    },
    {
      "cell_type": "code",
      "metadata": {
        "id": "IVhRe3-DBjPr"
      },
      "source": [
        "# chunk 2.13\n",
        "x_scatter = [math.log10(x[0]) for x in results]\n",
        "y_scatter = [math.log10(x[1]) for x in results]\n",
        "\n",
        "# plot training accuracy\n",
        "marker_size = 100\n",
        "colors = [results[x][0] for x in results]\n",
        "plt.scatter(x_scatter, y_scatter, marker_size, c=colors, cmap='viridis')\n",
        "plt.colorbar()\n",
        "plt.xlabel('log learning rate')\n",
        "plt.ylabel('log regularization strength')\n",
        "plt.title('CIFAR-10 training accuracy')\n",
        "plt.gcf().set_size_inches(8, 5)\n",
        "plt.show()\n",
        "\n",
        "# plot validation accuracy\n",
        "colors = [results[x][1] for x in results] # default size of markers is 20\n",
        "plt.scatter(x_scatter, y_scatter, marker_size, c=colors, cmap='viridis')\n",
        "plt.colorbar()\n",
        "plt.xlabel('log learning rate')\n",
        "plt.ylabel('log regularization strength')\n",
        "plt.title('CIFAR-10 validation accuracy')\n",
        "plt.gcf().set_size_inches(8, 5)\n",
        "plt.show()"
      ],
      "execution_count": null,
      "outputs": []
    },
    {
      "cell_type": "markdown",
      "metadata": {
        "id": "fbOlUcv6J7MM"
      },
      "source": [
        "Them, evaluate the performance of your best model on test set. To get full credit for this assignment you should achieve a test-set accuracy above 0.36.\n",
        "\n",
        "(Our best was just over 0.40 -- did you beat us?)\n",
        "\n"
      ]
    },
    {
      "cell_type": "code",
      "metadata": {
        "id": "-wxkVdB-1ddx"
      },
      "source": [
        "# chunk 2.14\n",
        "y_test_pred = best_softmax.predict(data_dict['X_test'])\n",
        "test_accuracy = torch.mean((data_dict['y_test'] == y_test_pred).float())\n",
        "print('softmax on raw pixels final test set accuracy: %f' % (test_accuracy, ))"
      ],
      "execution_count": null,
      "outputs": []
    },
    {
      "cell_type": "markdown",
      "metadata": {
        "id": "Joo4RbeoKECC"
      },
      "source": [
        "Finally, let's visualize the learned weights for each class"
      ]
    },
    {
      "cell_type": "code",
      "metadata": {
        "id": "XDfxI7mR1ddz"
      },
      "source": [
        "# chunk 2.15\n",
        "w = best_softmax.W[:-1,:] # strip out the bias\n",
        "w = w.reshape(3, 32, 32, 10)\n",
        "w = w.transpose(0, 2).transpose(1, 0)\n",
        "\n",
        "w_min, w_max = torch.min(w), torch.max(w)\n",
        "\n",
        "classes = ['plane', 'car', 'bird', 'cat', 'deer', 'dog', 'frog', 'horse', 'ship', 'truck']\n",
        "for i in range(10):\n",
        "  plt.subplot(2, 5, i + 1)\n",
        "\n",
        "  # Rescale the weights to be between 0 and 255\n",
        "  wimg = 255.0 * (w[:, :, :, i].squeeze() - w_min) / (w_max - w_min)\n",
        "  plt.imshow(wimg.type(torch.uint8).cpu())\n",
        "  plt.axis('off')\n",
        "  plt.title(classes[i])"
      ],
      "execution_count": null,
      "outputs": []
    }
  ]
}